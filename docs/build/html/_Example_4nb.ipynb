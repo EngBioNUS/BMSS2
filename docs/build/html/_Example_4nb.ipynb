{
 "cells": [
  {
   "cell_type": "markdown",
   "metadata": {},
   "source": [
    "# 4. A Priori Identifiability Analysis\n",
    "\n",
    "In this example, we show you how to a NOT Gate system with BMSS2."
   ]
  },
  {
   "cell_type": "markdown",
   "metadata": {},
   "source": [
    "## A Priori Identifiability Analysis\n",
    "\n",
    "We want to know if our candidate models will be fully identifiable based on the states measured. This can achieved using the strike-GOLDD algorithm."
   ]
  },
  {
   "cell_type": "code",
   "execution_count": 1,
   "metadata": {},
   "outputs": [
    {
     "name": "stdout",
     "output_type": "stream",
     "text": [
      "Connected to MBase_models, UBase_models\n",
      "Connected to MBase_settings, UBase_settings\n"
     ]
    }
   ],
   "source": [
    "import matplotlib.pyplot as plt\n",
    "import numpy             as np\n",
    "import pandas            as pd\n",
    "\n",
    "\n",
    "import BMSS.models.model_handler    as mh\n",
    "import BMSS.models.setup_sg         as ssg\n",
    "import BMSS.models.ia_results       as ir\n",
    "import BMSS.strike_goldd_simplified as sg"
   ]
  },
  {
   "cell_type": "markdown",
   "metadata": {},
   "source": [
    "After importing the required modules, we read the config files to set up the necessarydata structures. Note:  Note that in the first example, the settings were put in a separate file(s). This allowed us to switch between different groups of settings. However, since we only need one group of settings in this example, we can combine that group of settings with the core_model file for brevity.\n",
    "\n",
    "\n",
    "```\n",
    "[system_type]\n",
    "system_type = LogicGate, Not, Single\n",
    "\n",
    "[states]\n",
    "states = p1, p2\n",
    "\n",
    "[parameters]\n",
    "parameters = kp1, synp1, synp2, rep, degp\n",
    "\n",
    "[inputs]\n",
    "inputs = u1\n",
    "\n",
    "[equations]\n",
    "equations = \n",
    "\tdp1 = synp1 *u1                    -degp*p1\n",
    "\tdp2 = synp2 *(kp1+rep*p1)/(kp1+p1) -degp*p2\n",
    "\n",
    "\n",
    "\n",
    "[LogicGate, Not, Single]\n",
    "\n",
    "init = \n",
    "\tp1 = [0],\n",
    "\tp2 = [0]\n",
    "\n",
    "guess = \n",
    "\tkp1   = [5e-5],\n",
    "\tsynp1 = [1e-5],\n",
    "\tsynp2 = [1e-5],\n",
    "\trep   = [0.8],\n",
    "\tdegp  = [0.012],\n",
    "\tu1    = [0]\n",
    "\n",
    "priors = \n",
    "\tdegp = [0.012, 0.04]\n",
    "\n",
    "input_conditions = \n",
    "\tu1 = 3\n",
    "\t\n",
    "fixed_parameters = \n",
    "\t[degp, u1]\n",
    "\n",
    "measured_states = \n",
    "\t[p1, p2]\n",
    "\n",
    "decomposition = \n",
    "\t[[p1, p2]]\n",
    "\n",
    "```\n",
    "\n",
    "### Decomposition\n",
    "\n",
    "The symbolic algebraic operations used in STRIKE-GOLDD are complex and large models cannot be analyzed at once. Instead, they need to be <i>decomposed</i> into smaller ones first. The ```decomposition``` section contains a list of list of state variables where each inner list is a group of state variables that will be analyzed by the algorithm. Each group must contain at least <b>one</b> measured state variable. The state variables do not need to be split into mutually exclusive groups but can be reused e.g. [[p1], [p1, p2]]. However, to ensure comprehensive coverage, check that each state variable appears at least once in your decomposition.\n",
    "\n",
    "### Input Conditions\n",
    "The input conditions are the number of different value of inputs minus one. For example, ```u1``` in this model represents inducer concentration. If we characterize the system with 4 inducer concentrations, set ```u1=3```."
   ]
  },
  {
   "cell_type": "code",
   "execution_count": 2,
   "metadata": {},
   "outputs": [],
   "source": [
    "#Set up core models and sampler arguments\n",
    "model_files = ['LogicGate_Not_Single.ini',\n",
    "               ]\n",
    "\n",
    "user_core_models = [mh.from_config(filename) for filename in model_files]\n",
    "user_core_models = {core_model['system_type']: core_model for core_model in user_core_models}\n",
    "\n",
    "sg_args, config_data, variables = ssg.get_strike_goldd_args(model_files, user_core_models=user_core_models)\n"
   ]
  },
  {
   "cell_type": "code",
   "execution_count": 3,
   "metadata": {},
   "outputs": [
    {
     "name": "stdout",
     "output_type": "stream",
     "text": [
      "States :  [p1_1, p2_1]\n",
      "Outputs:  [p1_1, p2_1]\n",
      "Params :  [kp1_1, synp1_1, synp2_1, rep_1, degp_1]\n",
      "Inputs :  {u1_1: 3}\n",
      "ICS    :  {p1_1: 0.0, p2_1: 0.0}\n",
      "Equations:\n",
      "-degp_1*p1_1 + synp1_1*u1_1\n",
      "-degp_1*p2_1 + synp2_1*(kp1_1 + p1_1*rep_1)/(kp1_1 + p1_1)\n",
      "Building Oi with 3 derivatives and size (8, 7)\n",
      "Time for adding one Lie derivative: 0.17090320587158203\n",
      "Time for adding one Lie derivative: 0.25185346603393555\n",
      "Time for adding one Lie derivative: 0.32781291007995605\n",
      "Time for building Oi: 0.8884921073913574\n",
      "Checking rank for matrix with size (8, 7)\n",
      "Rank 6\n",
      "Time for Row Reduction: 10.525646686553955\n",
      "Elim-recalc for matrix with size (8, 7)\n",
      "Found [synp1_1, synp2_1, degp_1]\n",
      "Extending Oi\n",
      "Time for adding one Lie derivative: 0.5756707191467285\n",
      "Checking rank for matrix with size (10, 7)\n",
      "Rank 6\n",
      "Time for Row Reduction: 1.8969168663024902\n",
      "Elim-recalc for matrix with size (10, 7)\n",
      "Found []\n",
      "14.34646224975586\n",
      "...................................................\n",
      "Total Time: 14.348460912704468\n"
     ]
    }
   ],
   "source": [
    "sg_results = sg.analyze_sg_args(sg_args)\n",
    "outfile   = 'sg_results.yaml'\n",
    "yaml_dict = ir.export_sg_results(sg_results, variables, config_data, user_core_models=user_core_models, filename=outfile)\n",
    "    "
   ]
  },
  {
   "cell_type": "markdown",
   "metadata": {},
   "source": [
    "The results are returned inside the dictionary dst."
   ]
  },
  {
   "cell_type": "code",
   "execution_count": 4,
   "metadata": {},
   "outputs": [
    {
     "data": {
      "text/plain": [
       "{'system_type': 'LogicGate, Not, Single',\n",
       " 'init': {'p1': 0.0, 'p2': 0.0},\n",
       " 'input': {'p1': 1,\n",
       "  'p2': 1,\n",
       "  'kp1': 0,\n",
       "  'synp1': 0,\n",
       "  'synp2': 0,\n",
       "  'rep': 0,\n",
       "  'degp': 0,\n",
       "  'u1': 3},\n",
       " 'output': {'p1': 1,\n",
       "  'p2': 1,\n",
       "  'kp1': 0,\n",
       "  'synp1': 1,\n",
       "  'synp2': 1,\n",
       "  'rep': 0,\n",
       "  'degp': 1}}"
      ]
     },
     "execution_count": 4,
     "metadata": {},
     "output_type": "execute_result"
    }
   ],
   "source": [
    "yaml_dict[1]"
   ]
  }
 ],
 "metadata": {
  "kernelspec": {
   "display_name": "Python 3",
   "language": "python",
   "name": "python3"
  },
  "language_info": {
   "codemirror_mode": {
    "name": "ipython",
    "version": 3
   },
   "file_extension": ".py",
   "mimetype": "text/x-python",
   "name": "python",
   "nbconvert_exporter": "python",
   "pygments_lexer": "ipython3",
   "version": "3.8.5"
  }
 },
 "nbformat": 4,
 "nbformat_minor": 4
}
