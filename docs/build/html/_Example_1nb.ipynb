{
 "cells": [
  {
   "cell_type": "markdown",
   "metadata": {},
   "source": [
    "# 1. Using the Database and Config Files"
   ]
  },
  {
   "cell_type": "markdown",
   "metadata": {},
   "source": [
    "## Config Files\n",
    "\n",
    "Coding your models from scratch is tedious and prone to error. BMSS2 uses config files to expedite the process using .ini files!\n",
    "\n",
    "There are 3 kinds of config files used in BMSS2.\n"
   ]
  },
  {
   "cell_type": "markdown",
   "metadata": {},
   "source": [
    "### Core Models\n",
    "<b>Core models</b> are descriptions of model topologies and can be stored in the database. They contain only information on the variables involved in the model but not their actual values. An example of a simple model involving mRNA transcription and translation is shown below.\n",
    "```\n",
    "[system_type]\n",
    "system_type = my_model\n",
    "\n",
    "[states]\n",
    "states = m, p\n",
    "\n",
    "[parameters]\n",
    "parameters = k_ind, synm, degm, synp, degp\n",
    "\n",
    "[inputs]\n",
    "inputs = ind\n",
    "\n",
    "[equations]\n",
    "equations =\n",
    "\tdm = synm*ind/(ind + k_ind) - degm*m\n",
    "\tdp = synp*m - degp*p\n",
    "\n",
    "```\n"
   ]
  },
  {
   "cell_type": "markdown",
   "metadata": {},
   "source": [
    "### Settings\n",
    "Settings are information for carrying out simulation and other kinds of analyses. \n",
    "\n",
    "```\n",
    "[my_model]\n",
    "init = \n",
    "\tm = [0, 5e-5],\n",
    "\tp = [0, 5e-6]\n",
    "\n",
    "parameter_values = \n",
    "\tk_ind = [1e-2],\n",
    "\tsynm  = [1e-5],\n",
    "\tdegm  = [0.015],\n",
    "\tsynp  = [1e-2],\n",
    "\tdegp  = [0.012],\n",
    "\tind   = [0]\n",
    "\n",
    "priors = \n",
    "\tdegm  = [0.015, 0.05],\n",
    "\tdegp  = [0.012, 0.04]\n",
    "\n",
    "parameter_bounds = \n",
    "\tk_ind = [1e-3, 1],\n",
    "\tsynm  = [1e-6, 1e-4],\n",
    "\tdegm  = [0.01, 0.5],\n",
    "\tsynp  = [1e-3, 1],\n",
    "\tdegp  = [1e-3, 0.3],\n",
    "\tind   = [0, 1]\n",
    "\n",
    "units = \n",
    "\tk_ind = % Arabinose,\n",
    "\tsynm  = M/min,\n",
    "\tdegm  = 1/min,\n",
    "\tsynp  = M/min,\n",
    "\tdegp  = 1/min,\n",
    "\tind   = % Arabinose\n",
    "```\n",
    "\n",
    "Each core model requires its own file. Settings are however flexible and you can arrange them accrding to your needs. If you are analyzing multiple models in one go, we recommend putting the settings for all the models into a single file.\n",
    "\n",
    "```\n",
    "[model1]\n",
    "some information...\n",
    "\n",
    "[model2]\n",
    "more information...\n",
    "\n",
    "\n",
    "etc.\n",
    "```"
   ]
  },
  {
   "cell_type": "markdown",
   "metadata": {},
   "source": [
    "### Settings Templates\n",
    "\n",
    "To speed up writing new settings, a settings templates can be used as a base for generating new settings with pre-filled values. Like <b>core models</b>, they can be stored in the database.\n",
    "\n",
    "```\n",
    "[my_settings]\n",
    "system_type = my_model\n",
    "\n",
    "init = \n",
    "\tm = [0, 5e-5],\n",
    "\tp = [0, 5e-6]\n",
    "\n",
    "parameter_values = \n",
    "\tk_ind = [1e-2],\n",
    "\tsynm  = [1e-5],\n",
    "\tdegm  = [0.015],\n",
    "\tsynp  = [1e-2],\n",
    "\tdegp  = [0.012],\n",
    "\tind   = [0]\n",
    "\n",
    "priors = \n",
    "\tdegm  = [0.015, 0.05],\n",
    "\tdegp  = [0.012, 0.04]\n",
    "\n",
    "parameter_bounds = \n",
    "\tk_ind = [1e-3, 1],\n",
    "\tsynm  = [1e-6, 1e-4],\n",
    "\tdegm  = [0.01, 0.5],\n",
    "\tsynp  = [1e-3, 1],\n",
    "\tdegp  = [1e-3, 0.3],\n",
    "\tind   = [0, 1]\n",
    "\n",
    "units = \n",
    "\tk_ind = % Arabinose,\n",
    "\tsynm  = M/min,\n",
    "\tdegm  = 1/min,\n",
    "\tsynp  = M/min,\n",
    "\tdegp  = 1/min,\n",
    "\tind   = % Arabinose\n",
    "```"
   ]
  },
  {
   "cell_type": "markdown",
   "metadata": {},
   "source": [
    "## Working with the Database\n",
    "\n",
    "This section shows you how to use the config files for <b>core models</b> and <b>settings templates</b> in Python and how to add the information into the BMSS2 database. \n",
    "\n",
    "For now, the config data is stored in a file called ```my_model.ini``` and the .ini code is as follows:\n",
    "\n",
    "```\n",
    "[system_type]\n",
    "system_type = my_model\n",
    "\n",
    "[states]\n",
    "states = m, p\n",
    "\n",
    "[parameters]\n",
    "parameters = k_ind, synm, degm, synp, degp\n",
    "\n",
    "[inputs]\n",
    "inputs = ind\n",
    "\n",
    "[equations]\n",
    "equations =\n",
    "\tdm = synm*ind/(ind + k_ind) - degm*m\n",
    "\tdp = synp*m - degp*p\n",
    "\n",
    "[my_settings]\n",
    "system_type = my_model\n",
    "\n",
    "init = \n",
    "\tm = [0, 5e-5],\n",
    "\tp = [0, 5e-6]\n",
    "\n",
    "parameter_values = \n",
    "\tk_ind = [1e-2],\n",
    "\tsynm  = [1e-5],\n",
    "\tdegm  = [0.015],\n",
    "\tsynp  = [1e-2],\n",
    "\tdegp  = [0.012],\n",
    "\tind   = [0]\n",
    "\n",
    "priors = \n",
    "\tdegm  = [0.015, 0.05],\n",
    "\tdegp  = [0.012, 0.04]\n",
    "\n",
    "parameter_bounds = \n",
    "\tk_ind = [1e-3, 1],\n",
    "\tsynm  = [1e-6, 1e-4],\n",
    "\tdegm  = [0.01, 0.5],\n",
    "\tsynp  = [1e-3, 1],\n",
    "\tdegp  = [1e-3, 0.3],\n",
    "\tind   = [0, 1]\n",
    "\n",
    "units = \n",
    "\tk_ind = % Arabinose,\n",
    "\tsynm  = M/min,\n",
    "\tdegm  = 1/min,\n",
    "\tsynp  = M/min,\n",
    "\tdegp  = 1/min,\n",
    "\tind   = % Arabinose\n",
    "```"
   ]
  },
  {
   "cell_type": "markdown",
   "metadata": {},
   "source": [
    "### Importing Models into Python"
   ]
  },
  {
   "cell_type": "code",
   "execution_count": 1,
   "metadata": {},
   "outputs": [
    {
     "name": "stdout",
     "output_type": "stream",
     "text": [
      "Connected to MBase_models, UBase_models\n"
     ]
    }
   ],
   "source": [
    "import BMSS.models.model_handler as mh"
   ]
  },
  {
   "cell_type": "markdown",
   "metadata": {},
   "source": [
    "Having imported the modules, we now read the .ini file to get a dictionary version of a core model."
   ]
  },
  {
   "cell_type": "code",
   "execution_count": 2,
   "metadata": {},
   "outputs": [
    {
     "name": "stdout",
     "output_type": "stream",
     "text": [
      "id\n",
      "\n",
      "\n",
      "system_type\n",
      "my_model\n",
      "\n",
      "states\n",
      "['m', 'p']\n",
      "\n",
      "parameters\n",
      "['k_ind', 'synm', 'degm', 'synp', 'degp']\n",
      "\n",
      "inputs\n",
      "['ind']\n",
      "\n",
      "equations\n",
      "['dm = synm*ind/(ind + k_ind) - degm*m', 'dp = synp*m - degp*p']\n",
      "\n",
      "ia\n",
      "\n",
      "\n",
      "descriptions\n",
      "{}\n",
      "\n"
     ]
    }
   ],
   "source": [
    "filename     = 'my_model.ini'\n",
    "core_model_1 = mh.from_config(filename)\n",
    "\n",
    "for key, value in core_model_1.items():\n",
    "    print(key)\n",
    "    print(value)\n",
    "    print()"
   ]
  },
  {
   "cell_type": "markdown",
   "metadata": {},
   "source": [
    "Note that some additional fields are generated by BMSS2. Just leave them be."
   ]
  },
  {
   "cell_type": "markdown",
   "metadata": {},
   "source": [
    "If you want to make your own core model, you can use the constructor in BMSS2 to ensure your data is formatted correctly."
   ]
  },
  {
   "cell_type": "code",
   "execution_count": 3,
   "metadata": {},
   "outputs": [],
   "source": [
    "core_model_2 = mh.make_core_model(system_type = core_model_1['system_type'],\n",
    "                                  states      = core_model_1['states'],\n",
    "                                  parameters  = core_model_1['parameters'],\n",
    "                                  inputs      = core_model_1['inputs'],\n",
    "                                  equations   = core_model_1['equations'],\n",
    "                                  ia          = core_model_1['ia']\n",
    "                                  )"
   ]
  },
  {
   "cell_type": "markdown",
   "metadata": {},
   "source": [
    "As you work with more and more models, managing so many files can be a hassle. This is where the database comes in. Let's see the first few models inside the database."
   ]
  },
  {
   "cell_type": "code",
   "execution_count": 4,
   "metadata": {},
   "outputs": [
    {
     "data": {
      "text/plain": [
       "['BMSS, ConstantInduction, Inducible',\n",
       " 'BMSS, ConstantInduction, Inducible, MaturationTime',\n",
       " 'BMSS, InducerDegradation, Inducible',\n",
       " 'BMSS, InducerDegradation, Inducible, MaturationTime',\n",
       " 'BMSS, DelayActivation, Inducible, ActiveTransport']"
      ]
     },
     "execution_count": 4,
     "metadata": {},
     "output_type": "execute_result"
    }
   ],
   "source": [
    "mh.list_models()[:5]"
   ]
  },
  {
   "cell_type": "markdown",
   "metadata": {},
   "source": [
    "To search for a model, use the ```quick_search``` function."
   ]
  },
  {
   "cell_type": "code",
   "execution_count": 5,
   "metadata": {},
   "outputs": [
    {
     "data": {
      "text/plain": [
       "{'id': 'bmss1',\n",
       " 'system_type': 'BMSS, ConstantInduction, Inducible',\n",
       " 'states': ['m', 'p'],\n",
       " 'parameters': ['n', 'k_ind', 'synm', 'degm', 'synp', 'degp'],\n",
       " 'inputs': ['ind'],\n",
       " 'equations': ['dm = synm*(ind**n)/(ind**n + k_ind**n) - degm*m',\n",
       "  'dp = synp*m - degp*p'],\n",
       " 'ia': '',\n",
       " 'descriptions': {'Description': 'This model describes a simple gene expression for mRNA and protein driven by an inducible promoter with constant induction.',\n",
       "  'Definition of states': '\\nm: mRNA\\np: protein',\n",
       "  'Definition of parameters': '\\nk_ind: half-activation constant\\nsynm: mRNA synthesis rate\\ndegm: mRNA degradation rate\\nsynp: protein synthesis rate\\ndegp: protein degradation rate/dilution rate\\nn: hil coefficient',\n",
       "  'Definition of inputs': '\\nind: inducer level',\n",
       "  'Reference': '\\ntitle: An Automated Biomodel Selection System (BMSS) for Gene Circuit Designs.\\nauthors: Yeoh, Jing Wui, Kai Boon Ivan Ng, Ai Ying Teh, JingYun Zhang, Wai Kit David Chee, and Chueh Loo Poh.\\njournal: ACS synthetic biology 8, no. 7 (2019): 1484-1497.\\ndoi: https://doi.org/10.1021/acssynbio.8b00523'}}"
      ]
     },
     "execution_count": 5,
     "metadata": {},
     "output_type": "execute_result"
    }
   ],
   "source": [
    "mh.quick_search('BMSS, ConstantInduction, Inducible')"
   ]
  },
  {
   "cell_type": "markdown",
   "metadata": {},
   "source": [
    "If you are not sure what the exact system type is, use the ```search_database``` function."
   ]
  },
  {
   "cell_type": "code",
   "execution_count": 6,
   "metadata": {},
   "outputs": [
    {
     "data": {
      "text/plain": [
       "{'id': 'bmss1',\n",
       " 'system_type': 'BMSS, ConstantInduction, Inducible',\n",
       " 'states': ['m', 'p'],\n",
       " 'parameters': ['n', 'k_ind', 'synm', 'degm', 'synp', 'degp'],\n",
       " 'inputs': ['ind'],\n",
       " 'equations': ['dm = synm*(ind**n)/(ind**n + k_ind**n) - degm*m',\n",
       "  'dp = synp*m - degp*p'],\n",
       " 'ia': '',\n",
       " 'descriptions': {'Description': 'This model describes a simple gene expression for mRNA and protein driven by an inducible promoter with constant induction.',\n",
       "  'Definition of states': '\\nm: mRNA\\np: protein',\n",
       "  'Definition of parameters': '\\nk_ind: half-activation constant\\nsynm: mRNA synthesis rate\\ndegm: mRNA degradation rate\\nsynp: protein synthesis rate\\ndegp: protein degradation rate/dilution rate\\nn: hil coefficient',\n",
       "  'Definition of inputs': '\\nind: inducer level',\n",
       "  'Reference': '\\ntitle: An Automated Biomodel Selection System (BMSS) for Gene Circuit Designs.\\nauthors: Yeoh, Jing Wui, Kai Boon Ivan Ng, Ai Ying Teh, JingYun Zhang, Wai Kit David Chee, and Chueh Loo Poh.\\njournal: ACS synthetic biology 8, no. 7 (2019): 1484-1497.\\ndoi: https://doi.org/10.1021/acssynbio.8b00523'}}"
      ]
     },
     "execution_count": 6,
     "metadata": {},
     "output_type": "execute_result"
    }
   ],
   "source": [
    "search_results = mh.search_database('Inducible')\n",
    "search_results[0]"
   ]
  },
  {
   "cell_type": "markdown",
   "metadata": {},
   "source": [
    "To add a model to the database, use ```config_to_database``` or ```add_to_database```. If the core model already exists in the database, a dialog will be created to ask if you want to overwrite the existing one. Set ```dialog=False``` to overwrite without being asked."
   ]
  },
  {
   "cell_type": "code",
   "execution_count": 7,
   "metadata": {},
   "outputs": [
    {
     "name": "stdout",
     "output_type": "stream",
     "text": [
      "Modified model usr47 to UBase\n"
     ]
    }
   ],
   "source": [
    "system_type = mh.config_to_database(filename, dialog=False)"
   ]
  },
  {
   "cell_type": "markdown",
   "metadata": {},
   "source": [
    "Deactivate the model with the ```delete``` function."
   ]
  },
  {
   "cell_type": "code",
   "execution_count": 8,
   "metadata": {},
   "outputs": [],
   "source": [
    "#It won't be searchable after this.\n",
    "mh.delete(system_type)"
   ]
  },
  {
   "cell_type": "markdown",
   "metadata": {},
   "source": [
    "This can be undone using ```restore```"
   ]
  },
  {
   "cell_type": "code",
   "execution_count": 9,
   "metadata": {},
   "outputs": [],
   "source": [
    "mh.restore(system_type)"
   ]
  },
  {
   "cell_type": "markdown",
   "metadata": {},
   "source": [
    "The database can be exported as a pandas DataFrame by using ```to_df```. This will include both active and inactive models."
   ]
  },
  {
   "cell_type": "code",
   "execution_count": 10,
   "metadata": {},
   "outputs": [],
   "source": [
    "df = mh.to_df()"
   ]
  },
  {
   "cell_type": "markdown",
   "metadata": {},
   "source": [
    "### Importing Template Settings into Python\n",
    "Working with template settings is similar to that with core models. However, we now use the settings_handler module instead."
   ]
  },
  {
   "cell_type": "code",
   "execution_count": 11,
   "metadata": {},
   "outputs": [
    {
     "name": "stdout",
     "output_type": "stream",
     "text": [
      "Connected to MBase_settings, UBase_settings\n"
     ]
    }
   ],
   "source": [
    "import BMSS.models.settings_handler as sh"
   ]
  },
  {
   "cell_type": "code",
   "execution_count": 12,
   "metadata": {},
   "outputs": [
    {
     "data": {
      "text/plain": [
       "[{'system_type': 'my_model',\n",
       "  'settings_name': 'my_settings',\n",
       "  'units': {'k_ind': '% Arabinose',\n",
       "   'synm': 'M/min',\n",
       "   'degm': '1/min',\n",
       "   'synp': 'M/min',\n",
       "   'degp': '1/min',\n",
       "   'ind': '% Arabinose'},\n",
       "  'parameters':    k_ind     synm   degm  synp   degp  ind\n",
       "  0   0.01  0.00001  0.015  0.01  0.012    0,\n",
       "  'init':          0         1\n",
       "  1  0.00000  0.000000\n",
       "  2  0.00005  0.000005,\n",
       "  'priors': {'degm': array([0.015, 0.05 ]), 'degp': array([0.012, 0.04 ])},\n",
       "  'parameter_bounds': {'k_ind': [0.001, 1],\n",
       "   'synm': [1e-06, 0.0001],\n",
       "   'degm': [0.01, 0.5],\n",
       "   'synp': [0.001, 1],\n",
       "   'degp': [0.001, 0.3],\n",
       "   'ind': [0, 1]},\n",
       "  'tspan': [array([  0.,  20.,  40.,  60.,  80., 100., 120., 140., 160., 180., 200.,\n",
       "          220., 240., 260., 280., 300., 320., 340., 360., 380., 400., 420.,\n",
       "          440., 460., 480., 500., 520., 540., 560., 580., 600.])],\n",
       "  'fixed_parameters': [],\n",
       "  'solver_args': {'rtol': 1.49012e-08,\n",
       "   'atol': 1.49012e-08,\n",
       "   'tcrit': [],\n",
       "   'h0': 0.0,\n",
       "   'hmax': 0.0,\n",
       "   'hmin': 0.0,\n",
       "   'mxstep': 0}}]"
      ]
     },
     "execution_count": 12,
     "metadata": {},
     "output_type": "execute_result"
    }
   ],
   "source": [
    "sh.from_config(filename)"
   ]
  },
  {
   "cell_type": "code",
   "execution_count": 13,
   "metadata": {},
   "outputs": [
    {
     "name": "stdout",
     "output_type": "stream",
     "text": [
      "Added settings my_settings\n"
     ]
    }
   ],
   "source": [
    "system_types_settings_names = sh.config_to_database(filename)\n"
   ]
  },
  {
   "cell_type": "markdown",
   "metadata": {},
   "source": [
    "Note that you cannot add a settings template to the database if the associated core model has not been added yet."
   ]
  }
 ],
 "metadata": {
  "kernelspec": {
   "display_name": "Python 3",
   "language": "python",
   "name": "python3"
  },
  "language_info": {
   "codemirror_mode": {
    "name": "ipython",
    "version": 3
   },
   "file_extension": ".py",
   "mimetype": "text/x-python",
   "name": "python",
   "nbconvert_exporter": "python",
   "pygments_lexer": "ipython3",
   "version": "3.8.5"
  }
 },
 "nbformat": 4,
 "nbformat_minor": 4
}
