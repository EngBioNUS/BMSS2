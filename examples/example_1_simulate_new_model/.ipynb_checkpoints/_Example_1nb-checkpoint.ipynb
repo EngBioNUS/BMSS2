{
 "cells": [
  {
   "cell_type": "markdown",
   "metadata": {},
   "source": [
    "# Simulate New Model"
   ]
  },
  {
   "cell_type": "markdown",
   "metadata": {},
   "source": [
    "In this example, we show you to perform a simple simulation in BMSS2."
   ]
  },
  {
   "cell_type": "markdown",
   "metadata": {},
   "source": [
    "## Basic Simulation\n",
    "\n",
    "The steps for analyzing a model not in the database are as follows:\n",
    "\n",
    "1. Read the settngs file with BMSS.models.setup_sim.from_config\n",
    "2. Read the core model file with BMSS.models.model_handler.from_config\n",
    "3. Get the arguments required for analysis with BMSS.models.get_models_and_params\n",
    "    \n",
    "Use this method when:\n",
    "\n",
    "1. You are not sure if you want to save the model yet\n",
    "2. You expect to reformulate the model as you go along"
   ]
  },
  {
   "cell_type": "code",
   "execution_count": 1,
   "metadata": {},
   "outputs": [
    {
     "name": "stdout",
     "output_type": "stream",
     "text": [
      "Connected to MBase_models, UBase_models\n",
      "Connected to MBase_settings, UBase_settings\n"
     ]
    }
   ],
   "source": [
    "import matplotlib.pyplot as plt\n",
    "import os\n",
    "import pandas  as pd\n",
    "from   numba   import jit\n",
    "from   pathlib import Path\n",
    "\n",
    "import BMSS.models.model_handler as mh\n",
    "import BMSS.models.setup_sim     as sm\n",
    "import BMSS.simulation           as sim\n"
   ]
  },
  {
   "cell_type": "markdown",
   "metadata": {},
   "source": [
    "After importing the modules, we call the functions read the config files. These are files in .ini format where you specify the topology of the model and the settings for simulation and other types of analysis."
   ]
  },
  {
   "cell_type": "markdown",
   "metadata": {},
   "source": [
    "First we have the file that specifies the topology of the model\n",
    "```\n",
    "[system_type]\n",
    "system_type = TestModel, Dummy\n",
    "\n",
    "[states]\n",
    "states = m, p\n",
    "\n",
    "[parameters]\n",
    "parameters = k_ind, synm, degm, synp, degp\n",
    "\n",
    "[inputs]\n",
    "inputs = ind\n",
    "\n",
    "[equations]\n",
    "equations =\n",
    "\tdm = synm*ind/(ind + k_ind) - degm*m\n",
    "\tdp = synp*m - degp*p\n",
    "\n",
    "```"
   ]
  },
  {
   "cell_type": "markdown",
   "metadata": {},
   "source": [
    "Next we have the file which specifies the settings for simulation.\n",
    "\n",
    "```\n",
    "[TestModel, Dummy]\n",
    "\n",
    "init = \n",
    "\tm = [0, 1e-4],\n",
    "\tp = [0, 1e-4]\n",
    "\n",
    "parameter_values = \n",
    "\tk_ind = [1e-2, 5e-2],\n",
    "\tsynm  = [1e-5]*2,\n",
    "\tdegm  = [0.015]*2,\n",
    "\tsynp  = [1e-2]*2,\n",
    "\tdegp  = [0.012]*2,\n",
    "\tind   = [8e-2]*2\n",
    "\n",
    "units = \n",
    "\tk_ind = % Arabinose,\n",
    "\tsynm  = M/min,\n",
    "\tdegm  = 1/min,\n",
    "\tsynp  = M/min,\n",
    "\tdegp  = 1/min,\n",
    "\tind   = % Arabinose\n",
    "\n",
    "tspan =\n",
    "\t[0, 600, 61]\n",
    "```"
   ]
  },
  {
   "cell_type": "code",
   "execution_count": 2,
   "metadata": {},
   "outputs": [],
   "source": [
    "#Read model\n",
    "core_model       = mh.from_config('testmodel.ini')\n",
    "user_core_models = {core_model['system_type']: core_model}\n",
    "    \n",
    "#Read settings\n",
    "filename    = 'settings_sim_1.ini'\n",
    "config_data = sm.from_config(filename)\n",
    "    \n",
    "#Get arguments for simulation\n",
    "models, params, config_data = sm.get_models_and_params(filename, user_core_models=user_core_models)"
   ]
  },
  {
   "cell_type": "markdown",
   "metadata": {},
   "source": [
    "At this point, we can call perform the simulation by calling the integrate_models function.\n",
    "\n",
    "The results of the integration are stored in ym as a nested dictionary in the\n",
    "form of ym[model_num][scenario_num][row] where row is a row index in params.\n",
    "Meanwhile, ym[model_num][0] contains the time array for the model.\n",
    "Thus, suppose we only have one model. ym will then have one key.\n",
    "If that model has 2 scenarios, ym[1] will have 2 keys not including 0.\n",
    "Finally, if there are two rows of parameters, ym[1][1] and ym[1][2] will have two keys each."
   ]
  },
  {
   "cell_type": "code",
   "execution_count": 3,
   "metadata": {},
   "outputs": [
    {
     "name": "stdout",
     "output_type": "stream",
     "text": [
      "Simulating models\n",
      "Simulation complete\n",
      "Keys in ym: dict_keys([1])\n",
      "Keys in ym[1] dict_keys([1, 2, 0])\n",
      "Keys in ym[1][1] dict_keys([0])\n"
     ]
    }
   ],
   "source": [
    "ym, _ = sim.integrate_models(models, params)\n",
    "\n",
    "print('Keys in ym:', ym.keys())\n",
    "print('Keys in ym[1]', ym[1].keys())\n",
    "print('Keys in ym[1][1]', ym[1][1].keys())"
   ]
  },
  {
   "cell_type": "markdown",
   "metadata": {},
   "source": [
    "The following arguments follow a similar format to models where the first key corresponds to the model being integrated.\n",
    "The definition of the values indexed by those keys are as follows:\n",
    "\n",
    "- plot_index : A list of state variables to plot as well as extra functions for plotting.\n",
    "- titles     : A list of title names corresponding the states in plot_index. This argument is optional.\n",
    "- labels     : A dict of scenario: name pairs that will be used in the legend. This argument is optional."
   ]
  },
  {
   "cell_type": "code",
   "execution_count": 4,
   "metadata": {},
   "outputs": [
    {
     "data": {
      "image/png": "[encoded data removed]",
      "text/plain": [
       "<Figure size 432x288 with 1 Axes>"
      ]
     },
     "metadata": {
      "needs_background": "light"
     },
     "output_type": "display_data"
    },
    {
     "data": {
      "image/png": "[encoded data removed]",
      "text/plain": [
       "<Figure size 432x288 with 1 Axes>"
      ]
     },
     "metadata": {
      "needs_background": "light"
     },
     "output_type": "display_data"
    }
   ],
   "source": [
    "plot_index  = {1: ['m', 'p'],\n",
    "               }\n",
    "titles      = {1: {'m': 'Model 1 mRNA', 'p': 'Model 1 Protein'},\n",
    "               }\n",
    "labels      = {1: {1: 'Scenario 1', 2: 'Scenario 2'}\n",
    "               }\n",
    "\n",
    "figs, AX = sim.plot_model(plot_index, ym, titles=titles, labels=labels)"
   ]
  },
  {
   "cell_type": "markdown",
   "metadata": {},
   "source": [
    "## Plotting extra variables\n",
    "Sometimes, we might want to examine quantities that are not time series of the state variables.\n",
    "In this case, we can come up with our own functions to evaluate extra variables.\n",
    "This extra function takes of the form of func(y, t, params).\n",
    "The arrays in ym and their corresponding rows in params are fed into this function.\n",
    "The return values are:\n",
    "\n",
    "1. The y axis values\n",
    "2. The x axis values\n",
    "3. The marker used for plotting (Refer to matplotlib)"
   ]
  },
  {
   "cell_type": "code",
   "execution_count": 5,
   "metadata": {},
   "outputs": [
    {
     "name": "stdout",
     "output_type": "stream",
     "text": [
      "Simulating models\n",
      "Simulation complete\n"
     ]
    }
   ],
   "source": [
    "@jit(nopython=True)\n",
    "def synthesis_p(y, t, params):\n",
    "    '''\n",
    "    filler\n",
    "    x: Time\n",
    "    y: synthesis_rate\n",
    "    filler\n",
    "    '''\n",
    "    m = y[:,0]\n",
    "\n",
    "    synp = params[3]\n",
    "\n",
    "    synthesis_rate = synp*m\n",
    "\n",
    "    return synthesis_rate, t, '-'\n",
    "\n",
    "ym, em = sim.integrate_models(models, params, synthesis_p)"
   ]
  },
  {
   "cell_type": "markdown",
   "metadata": {},
   "source": [
    "Note that em is a nested dictinary in the form em[function][model_num][scenario_num][row]"
   ]
  },
  {
   "cell_type": "markdown",
   "metadata": {},
   "source": [
    "To plot the synthesis rate, modify the plot settings accordingly."
   ]
  },
  {
   "cell_type": "code",
   "execution_count": 6,
   "metadata": {},
   "outputs": [
    {
     "data": {
      "image/png": "[encoded data removed]",
      "text/plain": [
       "<Figure size 432x288 with 1 Axes>"
      ]
     },
     "metadata": {
      "needs_background": "light"
     },
     "output_type": "display_data"
    },
    {
     "data": {
      "image/png": "[encoded data removed]",
      "text/plain": [
       "<Figure size 432x288 with 1 Axes>"
      ]
     },
     "metadata": {
      "needs_background": "light"
     },
     "output_type": "display_data"
    }
   ],
   "source": [
    "plot_index  = {1: ['p', synthesis_p],\n",
    "               }\n",
    "titles      = {1: {'p': 'Model 1 Protein', synthesis_p: 'Rate of Protein Synthesis'},\n",
    "               }\n",
    "labels      = {1: {1: 'Scenario 1', 2: 'Scenario 2'}\n",
    "               }\n",
    "\n",
    "figs, AX = sim.plot_model(plot_index, ym, e=em, titles=titles, labels=labels) "
   ]
  },
  {
   "cell_type": "markdown",
   "metadata": {},
   "source": [
    "Finally, we can export the data for our external analysis in csv format."
   ]
  },
  {
   "cell_type": "code",
   "execution_count": 7,
   "metadata": {},
   "outputs": [
    {
     "data": {
      "text/plain": [
       "['y_1_1_0.csv',\n",
       " 'y_1_2_1.csv',\n",
       " 'synthesis_p_1_1_0.csv',\n",
       " 'synthesis_p_1_2_1.csv']"
      ]
     },
     "execution_count": 7,
     "metadata": {},
     "output_type": "execute_result"
    }
   ],
   "source": [
    "#Prefix at the front of the filenames\n",
    "prefix = ''\n",
    "\n",
    "#A new folder will be created using this directory. The files will be stored here.\n",
    "directory = Path(os.getcwd()) / 'simulation_results'\n",
    "\n",
    "sim.export_simulation_results(ym, em, prefix=prefix, directory=directory)"
   ]
  },
  {
   "cell_type": "code",
   "execution_count": 8,
   "metadata": {
    "scrolled": false
   },
   "outputs": [
    {
     "data": {
      "text/html": [
       "<div>\n",
       "<style scoped>\n",
       "    .dataframe tbody tr th:only-of-type {\n",
       "        vertical-align: middle;\n",
       "    }\n",
       "\n",
       "    .dataframe tbody tr th {\n",
       "        vertical-align: top;\n",
       "    }\n",
       "\n",
       "    .dataframe thead th {\n",
       "        text-align: right;\n",
       "    }\n",
       "</style>\n",
       "<table border=\"1\" class=\"dataframe\">\n",
       "  <thead>\n",
       "    <tr style=\"text-align: right;\">\n",
       "      <th></th>\n",
       "      <th>Unnamed: 0</th>\n",
       "      <th>Time</th>\n",
       "      <th>m</th>\n",
       "      <th>p</th>\n",
       "    </tr>\n",
       "  </thead>\n",
       "  <tbody>\n",
       "    <tr>\n",
       "      <th>0</th>\n",
       "      <td>0</td>\n",
       "      <td>0.0</td>\n",
       "      <td>0.000000</td>\n",
       "      <td>0.000000</td>\n",
       "    </tr>\n",
       "    <tr>\n",
       "      <th>1</th>\n",
       "      <td>1</td>\n",
       "      <td>10.0</td>\n",
       "      <td>0.000083</td>\n",
       "      <td>0.000004</td>\n",
       "    </tr>\n",
       "    <tr>\n",
       "      <th>2</th>\n",
       "      <td>2</td>\n",
       "      <td>20.0</td>\n",
       "      <td>0.000154</td>\n",
       "      <td>0.000015</td>\n",
       "    </tr>\n",
       "    <tr>\n",
       "      <th>3</th>\n",
       "      <td>3</td>\n",
       "      <td>30.0</td>\n",
       "      <td>0.000215</td>\n",
       "      <td>0.000031</td>\n",
       "    </tr>\n",
       "    <tr>\n",
       "      <th>4</th>\n",
       "      <td>4</td>\n",
       "      <td>40.0</td>\n",
       "      <td>0.000267</td>\n",
       "      <td>0.000050</td>\n",
       "    </tr>\n",
       "    <tr>\n",
       "      <th>...</th>\n",
       "      <td>...</td>\n",
       "      <td>...</td>\n",
       "      <td>...</td>\n",
       "      <td>...</td>\n",
       "    </tr>\n",
       "    <tr>\n",
       "      <th>56</th>\n",
       "      <td>56</td>\n",
       "      <td>560.0</td>\n",
       "      <td>0.000592</td>\n",
       "      <td>0.000491</td>\n",
       "    </tr>\n",
       "    <tr>\n",
       "      <th>57</th>\n",
       "      <td>57</td>\n",
       "      <td>570.0</td>\n",
       "      <td>0.000592</td>\n",
       "      <td>0.000492</td>\n",
       "    </tr>\n",
       "    <tr>\n",
       "      <th>58</th>\n",
       "      <td>58</td>\n",
       "      <td>580.0</td>\n",
       "      <td>0.000592</td>\n",
       "      <td>0.000492</td>\n",
       "    </tr>\n",
       "    <tr>\n",
       "      <th>59</th>\n",
       "      <td>59</td>\n",
       "      <td>590.0</td>\n",
       "      <td>0.000593</td>\n",
       "      <td>0.000492</td>\n",
       "    </tr>\n",
       "    <tr>\n",
       "      <th>60</th>\n",
       "      <td>60</td>\n",
       "      <td>600.0</td>\n",
       "      <td>0.000593</td>\n",
       "      <td>0.000492</td>\n",
       "    </tr>\n",
       "  </tbody>\n",
       "</table>\n",
       "<p>61 rows × 4 columns</p>\n",
       "</div>"
      ],
      "text/plain": [
       "    Unnamed: 0   Time         m         p\n",
       "0            0    0.0  0.000000  0.000000\n",
       "1            1   10.0  0.000083  0.000004\n",
       "2            2   20.0  0.000154  0.000015\n",
       "3            3   30.0  0.000215  0.000031\n",
       "4            4   40.0  0.000267  0.000050\n",
       "..         ...    ...       ...       ...\n",
       "56          56  560.0  0.000592  0.000491\n",
       "57          57  570.0  0.000592  0.000492\n",
       "58          58  580.0  0.000592  0.000492\n",
       "59          59  590.0  0.000593  0.000492\n",
       "60          60  600.0  0.000593  0.000492\n",
       "\n",
       "[61 rows x 4 columns]"
      ]
     },
     "execution_count": 8,
     "metadata": {},
     "output_type": "execute_result"
    }
   ],
   "source": [
    "pd.read_csv('simulation_results/y_1_1_0.csv')"
   ]
  },
  {
   "cell_type": "markdown",
   "metadata": {},
   "source": [
    "## Piecewise Integration\n",
    "\n",
    "BMSS2 also allows piecewise integration where the tspan field is broken into multiple lists. For example, a list of [0, 100, 11] could be broken in to ```[0, 50, 6], [50, 100, 6]```. The user can define a custom function in their Python script to be passed into BMSS under the “modify_init” or “modify_param” argument which will modify the states or parameters between segments.\n",
    "\n",
    "Supposed the inducer is added at a certain time point. We can simulate this by:\n",
    "\n",
    "1. Breaking the tspan argument into segments\n",
    "2. Adding a modify_param"
   ]
  },
  {
   "cell_type": "code",
   "execution_count": 9,
   "metadata": {},
   "outputs": [],
   "source": [
    "def change_inducer_by_scenario_and_segment(init_values, params, model_num, scenario_num, segment):\n",
    "        '''\n",
    "        Modifies the the current array of params based on model_num, scenario, segment and init_values.\n",
    "        '''\n",
    "        \n",
    "        new_params   = params.copy()\n",
    "        if model_num == 1 and segment == 1 and scenario_num == 1:\n",
    "            new_params[-1] = 8e-2\n",
    "\n",
    "        return new_params"
   ]
  },
  {
   "cell_type": "markdown",
   "metadata": {},
   "source": [
    "Now we import the settings\n",
    "\n",
    "```\n",
    "[TestModel, Dummy]\n",
    "\n",
    "init = \n",
    "\tm   = [0],\n",
    "\tp   = [0]\n",
    "\n",
    "parameter_values = \n",
    "\tk_ind = [1e-2],\n",
    "\tsynm  = [1e-5],\n",
    "\tdegm  = [0.015],\n",
    "\tsynp  = [1e-2],\n",
    "\tdegp  = [0.012],\n",
    "\tind   = [0]\n",
    "\n",
    "units = \n",
    "\tk_ind = % Arabinose,\n",
    "\tsynm  = M/min,\n",
    "\tdegm  = 1/min,\n",
    "\tsynp  = M/min,\n",
    "\tdegp  = 1/min,\n",
    "\tind   = % Arabinose\n",
    "\n",
    "tspan =\n",
    "\t[0, 300, 31], [300, 600, 31]\n",
    "```"
   ]
  },
  {
   "cell_type": "code",
   "execution_count": 10,
   "metadata": {},
   "outputs": [
    {
     "name": "stdout",
     "output_type": "stream",
     "text": [
      "Tspan for two-segment experiment\n",
      "[array([  0.,  10.,  20.,  30.,  40.,  50.,  60.,  70.,  80.,  90., 100.,\n",
      "       110., 120., 130., 140., 150., 160., 170., 180., 190., 200., 210.,\n",
      "       220., 230., 240., 250., 260., 270., 280., 290., 300.]), array([300., 310., 320., 330., 340., 350., 360., 370., 380., 390., 400.,\n",
      "       410., 420., 430., 440., 450., 460., 470., 480., 490., 500., 510.,\n",
      "       520., 530., 540., 550., 560., 570., 580., 590., 600.])]\n"
     ]
    }
   ],
   "source": [
    "filename = 'settings_sim_2.ini'\n",
    "models, params, config_data = sm.get_models_and_params(filename)\n",
    "\n",
    "#Print tspan\n",
    "print('Tspan for two-segment experiment')\n",
    "print(models[1]['tspan'])\n",
    "\n",
    "#Modify models accordingly\n",
    "models[1]['int_args']['modify_params'] = change_inducer_by_scenario_and_segment"
   ]
  },
  {
   "cell_type": "code",
   "execution_count": 11,
   "metadata": {
    "scrolled": true
   },
   "outputs": [
    {
     "name": "stdout",
     "output_type": "stream",
     "text": [
      "Simulating models\n",
      "Simulation complete\n"
     ]
    },
    {
     "data": {
      "image/png": "[encoded data removed]",
      "text/plain": [
       "<Figure size 432x288 with 1 Axes>"
      ]
     },
     "metadata": {
      "needs_background": "light"
     },
     "output_type": "display_data"
    },
    {
     "data": {
      "image/png": "[encoded data removed]",
      "text/plain": [
       "<Figure size 432x288 with 1 Axes>"
      ]
     },
     "metadata": {
      "needs_background": "light"
     },
     "output_type": "display_data"
    }
   ],
   "source": [
    "#Integrate\n",
    "ym, em = sim.integrate_models(models, params, synthesis_p)\n",
    "\n",
    "figs, AX = sim.plot_model(plot_index, ym, e=em, titles=titles, labels=labels) "
   ]
  },
  {
   "cell_type": "markdown",
   "metadata": {},
   "source": [
    "Note that the initial values can also be modified in a similar manner. Write your own function\n",
    "and place it under models[model_num]['int_args']['modify_init'] instead.\n"
   ]
  }
 ],
 "metadata": {
  "kernelspec": {
   "display_name": "Python 3",
   "language": "python",
   "name": "python3"
  },
  "language_info": {
   "codemirror_mode": {
    "name": "ipython",
    "version": 3
   },
   "file_extension": ".py",
   "mimetype": "text/x-python",
   "name": "python",
   "nbconvert_exporter": "python",
   "pygments_lexer": "ipython3",
   "version": "3.8.5"
  }
 },
 "nbformat": 4,
 "nbformat_minor": 4
}
