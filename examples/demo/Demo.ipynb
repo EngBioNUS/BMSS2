{
 "cells": [
  {
   "cell_type": "code",
   "execution_count": 1,
   "metadata": {},
   "outputs": [
    {
     "name": "stdout",
     "output_type": "stream",
     "text": [
      "Connected to MBase_models, UBase_models\n",
      "Connected to MBase_settings, UBase_settings\n"
     ]
    }
   ],
   "source": [
    "%matplotlib inline\n",
    "import os\n",
    "import numpy             as np\n",
    "import matplotlib\n",
    "import matplotlib.pyplot as plt\n",
    "import matplotlib.colors as colors\n",
    "import pandas            as pd\n",
    "from   pathlib           import Path\n",
    "\n",
    "import setup_bmss                as lab\n",
    "import BMSS.models.model_handler as mh\n",
    "import BMSS.models.settings_handler  as sh\n",
    "import BMSS.models.setup_cf      as sc\n",
    "import BMSS.icanalysis           as ac\n",
    "import BMSS.curvefitting         as cf\n",
    "import BMSS.traceanalysis        as ta\n",
    "import BMSS.models.setup_sim     as sm\n",
    "import BMSS.simulation           as sim\n",
    "import BMSS.models.setup_sen     as ss\n",
    "import BMSS.sensitivityanalysis  as sn\n",
    "import BMSS.models.setup_sg         as ssg\n",
    "import BMSS.models.ia_results       as ir\n",
    "import BMSS.strike_goldd_simplified as sg\n",
    "import BMSS.sbml                    as sb\n",
    "\n",
    "plt.close('all')\n",
    "plt.rcParams['figure.figsize'] = [12, 7]"
   ]
  },
  {
   "cell_type": "code",
   "execution_count": 2,
   "metadata": {},
   "outputs": [],
   "source": [
    "def read_data(filename):\n",
    "    '''Read experimental data and process the data into proper format (customized).\n",
    "    Return: mean and standard deviation data in dict\n",
    "    '''\n",
    "    state     = 'Fluor/OD'\n",
    "    data_mu   = {}\n",
    "    data_sd   = {}\n",
    "    state_sd  = {}\n",
    "    tspan     = None\n",
    "    df        = pd.read_csv(filename)\n",
    "    scenarios = []\n",
    "    \n",
    "    init      = {}\n",
    "    \n",
    "    for column in df.columns:\n",
    "        if 'std' in column:\n",
    "            continue\n",
    "        elif 'Time' in column:\n",
    "            scenarios = [column] + scenarios\n",
    "        else:\n",
    "            scenarios.append(column)\n",
    "      \n",
    "    #Set up data_mu, data_sd, init, tspan\n",
    "    for model_num in range(1, 4):\n",
    "        data_mu[model_num] = {state:{}}\n",
    "        data_sd[model_num] = {state:{}}\n",
    "        init[model_num]    = {}\n",
    "        \n",
    "        for i in range(len(scenarios)):\n",
    "            scenario = scenarios[i]\n",
    "            \n",
    "            if i == 0:\n",
    "                data_mu[model_num][state][i] = df[scenario].values\n",
    "                data_sd[model_num][state][i] = df[scenario].values\n",
    "                tspan                        = df[scenario].values \n",
    "            else:\n",
    "                data_mu[model_num][state][i] = df[scenario].values *1e-6/(18.814*30)\n",
    "                data_sd[model_num][state][i] = df[scenario + 'std'].values *1e-6/(18.814*30)\n",
    "                \n",
    "                #Specific to the model in question\n",
    "                init_val           = data_mu[model_num][state][i][0]              \n",
    "                init[model_num][i] = {state:init_val}\n",
    "    \n",
    "    #Set up state_sd\n",
    "    df_sd           = df[[scenario + 'std' for scenario in scenarios if 'Time' not in scenario]]\n",
    "    state_sd[state] = df_sd.mean().mean()*1e-6/(18.814*30)\n",
    "    \n",
    "    #Add scenarios for reference    \n",
    "    data_mu[1]['Fluor/OD'][-1] = scenarios\n",
    "    data_sd[1]['Fluor/OD'][-1] = scenarios\n",
    "    \n",
    "    return data_mu, data_sd, init, state_sd, tspan"
   ]
  },
  {
   "cell_type": "code",
   "execution_count": 3,
   "metadata": {},
   "outputs": [],
   "source": [
    "def modify_params(init_values, params, model_num, scenario_num, segment):\n",
    "    #Always use a copy and not the original\n",
    "    new_params = params.copy()\n",
    "    \n",
    "    #Change value of inducer based on scenario_num\n",
    "    if scenario_num == 1:\n",
    "        new_params[-2] = 1\n",
    "        new_params[-1] = 1\n",
    "    elif scenario_num == 2:\n",
    "        new_params[-2] = 0\n",
    "        new_params[-1] = 1\n",
    "    elif scenario_num == 3:\n",
    "        new_params[-2] = 1\n",
    "        new_params[-1] = 0\n",
    "    else:\n",
    "        new_params[-2] = 0\n",
    "        new_params[-1] = 0\n",
    "\n",
    "    return new_params"
   ]
  },
  {
   "cell_type": "markdown",
   "metadata": {},
   "source": [
    "## Curve-Fitting/Parameter Estimation"
   ]
  },
  {
   "cell_type": "markdown",
   "metadata": {},
   "source": [
    "### Set Up Core Models\n",
    "- Read model files with **from_config**"
   ]
  },
  {
   "cell_type": "code",
   "execution_count": 4,
   "metadata": {},
   "outputs": [
    {
     "name": "stdout",
     "output_type": "stream",
     "text": [
      "User core models ['LogicGate, OR, Double', 'LogicGate, OR, Double, Degrade, Delay', 'LogicGate, OR, Double, Delay, Degrade, ResCompete']\n"
     ]
    }
   ],
   "source": [
    "#Set up core models and sampler arguments\n",
    "model_files = ['LogicGate_OR_Double.ini',\n",
    "               'LogicGate_OR_Double_Degrade_Delay.ini',\n",
    "               'LogicGate_OR_Double_Delay_Degrade_ResCompete.ini'\n",
    "               ]\n",
    "\n",
    "#List of model dicts\n",
    "user_core_models = {}\n",
    "\n",
    "for filename in model_files:\n",
    "    core_model                    = mh.from_config(filename)\n",
    "    system_type                   = core_model['system_type']\n",
    "    user_core_models[system_type] = core_model\n",
    "\n",
    "print('User core models', list(user_core_models.keys()))"
   ]
  },
  {
   "cell_type": "markdown",
   "metadata": {},
   "source": [
    "### Preprocessing\n",
    "- Read data in dictionaries\n",
    "- Get simulation settings with get_sampler_args\n",
    "- Update simulation settings for model "
   ]
  },
  {
   "cell_type": "code",
   "execution_count": 5,
   "metadata": {
    "scrolled": true
   },
   "outputs": [],
   "source": [
    "data_file = Path.cwd()/'data'/'LogicGate_ORAraAtcTop10d37M9.csv'\n",
    "data_mu, data_sd, init, state_sd, tspan = read_data(data_file)\n",
    "\n",
    "sampler_args, config_data = sc.get_sampler_args('cf_settings.ini', user_core_models=user_core_models)\n",
    "\n",
    "sampler_args['data'] = data_mu\n",
    "\n",
    "for model_num in sampler_args['models']:\n",
    "    sampler_args['models'][model_num]['tspan'] = [tspan]\n",
    "    sampler_args['models'][model_num]['sd']    = state_sd\n",
    "    sampler_args['models'][model_num]['states'][-1] = 'Fluor/OD'\n",
    "    sampler_args['models'][model_num]['int_args']['modify_params'] = modify_params\n"
   ]
  },
  {
   "cell_type": "markdown",
   "metadata": {},
   "source": [
    "## Run Sampler"
   ]
  },
  {
   "cell_type": "code",
   "execution_count": 6,
   "metadata": {
    "scrolled": true
   },
   "outputs": [
    {
     "name": "stderr",
     "output_type": "stream",
     "text": [
      "100%|██████████████████████████████████████████████████████████████████████████████| 3000/3000 [03:10<00:00, 15.71it/s]\n"
     ]
    }
   ],
   "source": [
    "#Run sampler\n",
    "traces    = {}    \n",
    "result    = cf.simulated_annealing(**sampler_args)\n",
    "accepted  = result['a']\n",
    "traces[1] = accepted\n",
    "\n",
    "#Export accepted dataframe into csv file\n",
    "accepted.to_csv('Output_files/accepted.csv')"
   ]
  },
  {
   "cell_type": "markdown",
   "metadata": {},
   "source": [
    "## Rank Models"
   ]
  },
  {
   "cell_type": "code",
   "execution_count": 7,
   "metadata": {
    "scrolled": true
   },
   "outputs": [
    {
     "name": "stdout",
     "output_type": "stream",
     "text": [
      "Ranked AIC table:\n"
     ]
    },
    {
     "data": {
      "text/html": [
       "<div>\n",
       "<style scoped>\n",
       "    .dataframe tbody tr th:only-of-type {\n",
       "        vertical-align: middle;\n",
       "    }\n",
       "\n",
       "    .dataframe tbody tr th {\n",
       "        vertical-align: top;\n",
       "    }\n",
       "\n",
       "    .dataframe thead th {\n",
       "        text-align: right;\n",
       "    }\n",
       "</style>\n",
       "<table border=\"1\" class=\"dataframe\">\n",
       "  <thead>\n",
       "    <tr style=\"text-align: right;\">\n",
       "      <th></th>\n",
       "      <th>row</th>\n",
       "      <th>ic value</th>\n",
       "      <th>Evidence</th>\n",
       "      <th>d(ic value)</th>\n",
       "    </tr>\n",
       "    <tr>\n",
       "      <th>model_num</th>\n",
       "      <th></th>\n",
       "      <th></th>\n",
       "      <th></th>\n",
       "      <th></th>\n",
       "    </tr>\n",
       "  </thead>\n",
       "  <tbody>\n",
       "    <tr>\n",
       "      <th>1</th>\n",
       "      <td>536</td>\n",
       "      <td>980.660146</td>\n",
       "      <td>No support</td>\n",
       "      <td>617.944484</td>\n",
       "    </tr>\n",
       "    <tr>\n",
       "      <th>2</th>\n",
       "      <td>535</td>\n",
       "      <td>867.146711</td>\n",
       "      <td>No support</td>\n",
       "      <td>504.431049</td>\n",
       "    </tr>\n",
       "    <tr>\n",
       "      <th>3</th>\n",
       "      <td>536</td>\n",
       "      <td>362.715662</td>\n",
       "      <td>Substantial support</td>\n",
       "      <td>0.000000</td>\n",
       "    </tr>\n",
       "  </tbody>\n",
       "</table>\n",
       "</div>"
      ],
      "text/plain": [
       "           row    ic value             Evidence  d(ic value)\n",
       "model_num                                                   \n",
       "1          536  980.660146           No support   617.944484\n",
       "2          535  867.146711           No support   504.431049\n",
       "3          536  362.715662  Substantial support     0.000000"
      ]
     },
     "execution_count": 7,
     "metadata": {},
     "output_type": "execute_result"
    }
   ],
   "source": [
    "#Rank models\n",
    "table = ac.calculate_ic(data   = sampler_args['data'], \n",
    "                        models = sampler_args['models'], \n",
    "                        priors = sampler_args['priors'],\n",
    "                        params = accepted\n",
    "                        )\n",
    "\n",
    "ranked_table  = ac.rank_ic(table, inplace=False)\n",
    "print('Ranked AIC table:')\n",
    "ranked_table.groupby('model_num').first()\n"
   ]
  },
  {
   "cell_type": "markdown",
   "metadata": {},
   "source": [
    "## Plot Results"
   ]
  },
  {
   "cell_type": "code",
   "execution_count": 32,
   "metadata": {},
   "outputs": [
    {
     "data": {
      "image/png": "[encoded data removed]",
      "text/plain": [
       "<Figure size 864x504 with 3 Axes>"
      ]
     },
     "metadata": {
      "needs_background": "light"
     },
     "output_type": "display_data"
    }
   ],
   "source": [
    "%matplotlib inline\n",
    "plt.rcParams['figure.figsize'] = [12, 7]\n",
    "\n",
    "#Plot results\n",
    "plot_index  = {1: ['Fluor/OD'], \n",
    "               2: ['Fluor/OD'], \n",
    "               3: ['Fluor/OD']\n",
    "               }\n",
    "titles      = {1: {'Fluor/OD': 'Double'}, \n",
    "               2: {'Fluor/OD': 'Double_Delay_Degrade'}, \n",
    "               3: {'Fluor/OD': 'Double_Delay_Degrade_ResCompete'}\n",
    "                  }\n",
    "labels      = {1: {1: 'Input=00', 2: 'Input=01', 3: 'Input=10', 4: 'Input=11'},\n",
    "               2: {1: 'Input=00', 2: 'Input=01', 3: 'Input=10', 4: 'Input=11'},\n",
    "               3: {1: 'Input=00', 2: 'Input=01', 3: 'Input=10', 4: 'Input=11'}\n",
    "               }\n",
    "legend_args = {'loc': 'upper left'}\n",
    "\n",
    "#Plot the results into two figures for better visualization\n",
    "fig1, AX1 = plt.subplots(1, 3)\n",
    "# fig2, AX2 = plt.subplots(1, 3)\n",
    "AX        = {1: {'Fluor/OD' : AX1[0]},\n",
    "             2: {'Fluor/OD' : AX1[1]},\n",
    "             3: {'Fluor/OD' : AX1[2]},\n",
    "             }\n",
    "\n",
    "figs, AX  = cf.plot(posterior   = accepted.iloc[-20::2], \n",
    "                    models      = sampler_args['models'], \n",
    "                    guess       = sampler_args['guess'],\n",
    "                    data        = data_mu,\n",
    "                    data_sd     = data_sd,\n",
    "                    plot_index  = plot_index,\n",
    "                    labels      = labels,\n",
    "                    titles      = titles,\n",
    "                    legend_args = legend_args,\n",
    "                    AX          = AX\n",
    "                    )"
   ]
  },
  {
   "cell_type": "markdown",
   "metadata": {},
   "source": [
    "## Extract and Export Best Parameter Set/Model"
   ]
  },
  {
   "cell_type": "code",
   "execution_count": 9,
   "metadata": {},
   "outputs": [],
   "source": [
    "#Export the ranked table into csv file inside the output folder\n",
    "ranked_table.to_csv('ranked_table.csv') \n",
    "\n",
    "best           = ranked_table.iloc[0]\n",
    "best_row_index = best['row']\n",
    "best_model_num = best['model_num']"
   ]
  },
  {
   "cell_type": "code",
   "execution_count": 10,
   "metadata": {
    "scrolled": true
   },
   "outputs": [
    {
     "name": "stdout",
     "output_type": "stream",
     "text": [
      "3\n"
     ]
    }
   ],
   "source": [
    "print(best_model_num)"
   ]
  },
  {
   "cell_type": "code",
   "execution_count": 11,
   "metadata": {
    "scrolled": true
   },
   "outputs": [
    {
     "name": "stdout",
     "output_type": "stream",
     "text": [
      "syn_mRNA1_1    6.509358e-07\n",
      "syn_mRNA2_1    5.113698e-07\n",
      "syn_mRNA3_1    1.396446e-07\n",
      "deg_mRNA_1     1.357000e-01\n",
      "syn_Pep_1      6.437852e-03\n",
      "deg_Pep_1      2.517480e-03\n",
      "Pepmax_1       6.256052e-07\n",
      "Km_1           1.297954e-01\n",
      "deg_Ind_1      2.678006e-03\n",
      "state1_1       0.000000e+00\n",
      "state2_1       0.000000e+00\n",
      "syn_mRNA1_2    7.645067e-07\n",
      "syn_mRNA2_2    1.065378e-06\n",
      "syn_mRNA3_2    1.215102e-07\n",
      "deg_mRNA_2     1.357000e-01\n",
      "syn_Pep_2      6.049957e-03\n",
      "deg_Pep_2      3.474027e-03\n",
      "Pepmax_2       7.282250e-07\n",
      "state1_2       0.000000e+00\n",
      "state2_2       0.000000e+00\n",
      "syn_mRNA1_3    4.612336e-07\n",
      "syn_mRNA2_3    1.144915e-06\n",
      "syn_mRNA3_3    1.227336e-07\n",
      "deg_mRNA_3     1.357000e-01\n",
      "syn_Pep_3      7.037876e-03\n",
      "deg_Pep_3      2.501058e-03\n",
      "Pepmax_3       7.066333e-07\n",
      "Km_3           7.100994e-02\n",
      "deg_Ind_3      3.146214e-03\n",
      "Ratio_3        1.539657e-01\n",
      "state1_3       0.000000e+00\n",
      "state2_3       0.000000e+00\n",
      "Name: 536, dtype: float64\n"
     ]
    }
   ],
   "source": [
    "print(accepted.loc[best_row_index])"
   ]
  },
  {
   "cell_type": "markdown",
   "metadata": {},
   "source": [
    "## A Posteriori Identifiability Analysis\n",
    "- Plot trace of sampler\n",
    "- Check if distribution stabilizes at the end of the run"
   ]
  },
  {
   "cell_type": "code",
   "execution_count": 12,
   "metadata": {},
   "outputs": [],
   "source": [
    "to_skip = sampler_args['fixed_parameters'] + [p for p in sampler_args['guess'] if '_3' not in p]\n",
    "trace_figs, trace_AX = ta.plot_steps(traces, \n",
    "                                     skip        = to_skip, \n",
    "                                     legend_args = legend_args,\n",
    "                                     )"
   ]
  },
  {
   "cell_type": "markdown",
   "metadata": {},
   "source": [
    "## Database\n",
    "- Make new settings\n",
    "- Add model and settings with **add_to_database**"
   ]
  },
  {
   "cell_type": "code",
   "execution_count": 13,
   "metadata": {},
   "outputs": [
    {
     "name": "stdout",
     "output_type": "stream",
     "text": [
      "Added settings bestfit\n"
     ]
    },
    {
     "data": {
      "text/plain": [
       "('LogicGate, OR, Double, Delay, Degrade, ResCompete', 'bestfit')"
      ]
     },
     "execution_count": 13,
     "metadata": {},
     "output_type": "execute_result"
    }
   ],
   "source": [
    "new_settings                  = config_data[3]\n",
    "new_settings['settings_name'] = 'bestfit'\n",
    "new_settings['parameters']    = cf.get_params_for_model(models    = sampler_args['models'], \n",
    "                                                        trace     = accepted, \n",
    "                                                        model_num = best_model_num,\n",
    "                                                        row_index = best_row_index\n",
    "                                                        )\n",
    "\n",
    "model        = user_core_models['LogicGate, OR, Double, Delay, Degrade, ResCompete']\n",
    "if 'LogicGate, OR, Double, Delay, Degrade, ResCompete' not in mh.list_models():\n",
    "    mh.add_to_database(model)\n",
    "new_settings = sh.make_settings(**new_settings)\n",
    "sh.add_to_database(new_settings)"
   ]
  },
  {
   "cell_type": "markdown",
   "metadata": {},
   "source": [
    "## Sensitivity Analysis"
   ]
  },
  {
   "cell_type": "markdown",
   "metadata": {},
   "source": [
    "### Setting Up\n",
    "- Read settings files with **get_sensitivity_args**"
   ]
  },
  {
   "cell_type": "code",
   "execution_count": 14,
   "metadata": {},
   "outputs": [],
   "source": [
    "    config_data = ss.from_config('sn_settings.ini')\n",
    "        \n",
    "    sensitivity_args, _ = ss.get_sensitivity_args(config_data, user_core_models=user_core_models)\n",
    "    \n",
    "    def Pep3_yield(y, t, params):\n",
    "        final_Pep3 = y[-1, -1]\n",
    "        \n",
    "        return final_Pep3\n",
    "    \n",
    "    sensitivity_args['models'][1]['int_args']['modify_params'] = modify_params\n",
    "    sensitivity_args['objective'] = {1: [Pep3_yield]}"
   ]
  },
  {
   "cell_type": "markdown",
   "metadata": {},
   "source": [
    "### Run Analysis"
   ]
  },
  {
   "cell_type": "code",
   "execution_count": 15,
   "metadata": {
    "scrolled": true
   },
   "outputs": [],
   "source": [
    "analysis_result, em, samples, problems = sn.analyze(**sensitivity_args)"
   ]
  },
  {
   "cell_type": "markdown",
   "metadata": {},
   "source": [
    "### First Order Sensitivity"
   ]
  },
  {
   "cell_type": "code",
   "execution_count": 16,
   "metadata": {
    "scrolled": false
   },
   "outputs": [],
   "source": [
    "#Plot settings\n",
    "titles   = {1: {Pep3_yield: 'Pep output'}\n",
    "           }\n",
    "\n",
    "#Plot\n",
    "first_order_figs, first_order_AX = sn.plot_first_order(analysis_result, problems=problems, titles=titles,\n",
    "                                                       analysis_type=sensitivity_args['analysis_type'],\n",
    "                                                      )\n",
    "\n"
   ]
  },
  {
   "cell_type": "markdown",
   "metadata": {},
   "source": [
    "### Second Order Sensitivity"
   ]
  },
  {
   "cell_type": "code",
   "execution_count": 17,
   "metadata": {},
   "outputs": [],
   "source": [
    "sec_order_figs, sec_order_AX = sn.plot_second_order(analysis_result, problems=problems, titles=titles,\n",
    "                                                    analysis_type=sensitivity_args['analysis_type'],\n",
    "                                                   )\n",
    "    "
   ]
  },
  {
   "cell_type": "markdown",
   "metadata": {},
   "source": [
    "## A Priori Identifiability Analysis\n",
    "- Get settings with get_strike_goldd_args"
   ]
  },
  {
   "cell_type": "code",
   "execution_count": 18,
   "metadata": {
    "scrolled": true
   },
   "outputs": [
    {
     "name": "stdout",
     "output_type": "stream",
     "text": [
      "States :  [mRNA1_1, Pep1_1, mRNA2_1, Pep2_1, mRNA3_1, Pep3_1]\n",
      "Outputs:  [Pep1_1, Pep2_1, Pep3_1]\n",
      "Params :  [deg_mRNA_1, Pepmax_1]\n",
      "Inputs :  {state1_1: 1, state2_1: 1}\n",
      "ICS    :  {mRNA1_1: 0.0, Pep1_1: 0.0, mRNA2_1: 0.0, Pep2_1: 0.0, mRNA3_1: 0.0, Pep3_1: 0.0}\n",
      "Equations:\n",
      "-deg_mRNA_1*mRNA1_1 + state1_1*syn_mRNA1_1\n",
      "-Pep1_1*deg_Pep_1 + mRNA1_1*syn_Pep_1\n",
      "-deg_mRNA_1*mRNA2_1 + state2_1*syn_mRNA2_1\n",
      "-Pep2_1*deg_Pep_1 + mRNA2_1*syn_Pep_1\n",
      "-deg_mRNA_1*mRNA3_1 + syn_mRNA3_1*(Pep1_1 + Pep2_1)/Pepmax_1\n",
      "-Pep3_1*deg_Pep_1 + mRNA3_1*syn_Pep_1\n",
      "Building Oi with 2 derivatives and size (9, 8)\n",
      "Time for adding one Lie derivative: 0.060964345932006836\n",
      "Time for adding one Lie derivative: 0.08994793891906738\n",
      "Time for building Oi: 0.1888895034790039\n",
      "Checking rank for matrix with size (9, 8)\n",
      "Rank 6\n",
      "Time for Row Reduction: 1.044966697692871\n",
      "Elim-recalc for matrix with size (9, 8)\n",
      "Found [mRNA1_1, mRNA2_1, mRNA3_1]\n",
      "Extending Oi\n",
      "Time for adding one Lie derivative: 0.09991884231567383\n",
      "Checking rank for matrix with size (12, 8)\n",
      "Rank 7\n",
      "Time for Row Reduction: 0.18489289283752441\n",
      "Elim-recalc for matrix with size (12, 8)\n",
      "Found [deg_mRNA_1]\n",
      "Extending Oi\n",
      "Time for adding one Lie derivative: 0.18489289283752441\n",
      "Checking rank for matrix with size (15, 8)\n",
      "Rank 8\n",
      "Time for Row Reduction: 0.8165373802185059\n",
      "Found [Pepmax_1]\n",
      "2.646050214767456\n",
      "...................................................\n",
      "Total Time: 2.646050214767456\n"
     ]
    }
   ],
   "source": [
    "sg_args, config_data, variables = ssg.get_strike_goldd_args('sg_settings.ini', user_core_models=user_core_models)\n",
    "\n",
    "sg_results = sg.analyze_sg_args(sg_args)"
   ]
  },
  {
   "cell_type": "code",
   "execution_count": 19,
   "metadata": {
    "scrolled": false
   },
   "outputs": [
    {
     "name": "stdout",
     "output_type": "stream",
     "text": [
      "mRNA1_1 : True\n",
      "Pep1_1 : True\n",
      "mRNA2_1 : True\n",
      "Pep2_1 : True\n",
      "mRNA3_1 : True\n",
      "Pep3_1 : True\n",
      "deg_mRNA_1 : True\n",
      "Pepmax_1 : True\n"
     ]
    }
   ],
   "source": [
    "for k, v in sg_results[1].items():\n",
    "    print(k, ':', v)"
   ]
  },
  {
   "cell_type": "markdown",
   "metadata": {},
   "source": [
    "## Retrieval"
   ]
  },
  {
   "cell_type": "code",
   "execution_count": 20,
   "metadata": {},
   "outputs": [
    {
     "data": {
      "text/plain": [
       "['BMSS, ConstantInduction, Inducible',\n",
       " 'BMSS, ConstantInduction, Inducible, MaturationTime',\n",
       " 'BMSS, InducerDegradation, Inducible',\n",
       " 'BMSS, InducerDegradation, Inducible, MaturationTime',\n",
       " 'BMSS, DelayActivation, Inducible, ActiveTransport']"
      ]
     },
     "execution_count": 20,
     "metadata": {},
     "output_type": "execute_result"
    }
   ],
   "source": [
    "mh.list_models()[:5]"
   ]
  },
  {
   "cell_type": "code",
   "execution_count": 21,
   "metadata": {
    "scrolled": true
   },
   "outputs": [
    {
     "name": "stdout",
     "output_type": "stream",
     "text": [
      "id\n",
      "usr1\n",
      "\n",
      "system_type\n",
      "LogicGate, OR, Double, Delay, Degrade, ResCompete\n",
      "\n",
      "states\n",
      "['Inde', 'Indi', 'Ind', 'mRNA1', 'Pep1', 'mRNA2', 'Pep2', 'mRNA3', 'Pep3']\n",
      "\n",
      "parameters\n",
      "['syn_mRNA1', 'syn_mRNA2', 'syn_mRNA3', 'deg_mRNA', 'syn_Pep', 'deg_Pep', 'Pepmax', 'Km', 'deg_Ind', 'Ratio']\n",
      "\n",
      "inputs\n",
      "['state1', 'state2']\n",
      "\n",
      "equations\n",
      "['dInde = -(Inde/(Inde+Km))*Inde', 'dIndi = (Inde/(Inde+Km))*Inde', 'dInd  = -deg_Ind*Ind', 'dmRNA1 = syn_mRNA1*(Indi)*(state1) - (deg_mRNA *mRNA1)', 'dPep1 = (syn_Pep*mRNA1) - (deg_Pep*Pep1)', 'dmRNA2 = syn_mRNA2*(Ind)*(state2) - (deg_mRNA *mRNA2)', 'dPep2 = (syn_Pep*mRNA2) - (deg_Pep*Pep2)', 'dmRNA3 = (syn_mRNA3*((Pep1+Pep2)/Pepmax))-(deg_mRNA *mRNA3)', 'dPep3 = (syn_Pep*(1-state1*state2*Ratio)*mRNA3)-(deg_Pep*Pep3)']\n",
      "\n",
      "ia\n",
      "\n",
      "\n",
      "descriptions\n",
      "{}\n",
      "\n"
     ]
    }
   ],
   "source": [
    "model = mh.quick_search('LogicGate, OR, Double, Delay, Degrade, ResCompete')\n",
    "for k, v in model.items():\n",
    "    print(k)\n",
    "    print(v)\n",
    "    print()"
   ]
  },
  {
   "cell_type": "markdown",
   "metadata": {},
   "source": [
    "## SBML"
   ]
  },
  {
   "cell_type": "markdown",
   "metadata": {},
   "source": [
    "### Write SBML"
   ]
  },
  {
   "cell_type": "code",
   "execution_count": 22,
   "metadata": {},
   "outputs": [
    {
     "name": "stdout",
     "output_type": "stream",
     "text": [
      "\n",
      "Number of Scenarios in Model = 4\n",
      "SBML files outputed:  ['DatabasetoSBML_1.xml', 'DatabasetoSBML_2.xml', 'DatabasetoSBML_3.xml', 'DatabasetoSBML_4.xml']\n",
      "['DatabasetoSBML_1.xml', 'DatabasetoSBML_2.xml', 'DatabasetoSBML_3.xml', 'DatabasetoSBML_4.xml']\n"
     ]
    }
   ],
   "source": [
    "sbmlfiles = sb.database_to_sbml('LogicGate, OR, Double, Delay, Degrade, ResCompete', 'bestfit')\n",
    "print(sbmlfiles)"
   ]
  },
  {
   "cell_type": "markdown",
   "metadata": {},
   "source": [
    "### Read SBML"
   ]
  },
  {
   "cell_type": "code",
   "execution_count": 23,
   "metadata": {
    "scrolled": true
   },
   "outputs": [
    {
     "name": "stdout",
     "output_type": "stream",
     "text": [
      "\n",
      "The config file path:\n",
      "LogicGate_OR_Double_Delay_Degrade_ResCompete.ini\n",
      "\n",
      "The settings template file path:\n",
      "LogicGate_OR_Double_Delay_Degrade_ResCompete_sim_settings.ini\n",
      "[system_type]\n",
      "system_type = LogicGate, OR, Double, Delay, Degrade, ResCompete\n",
      "\n",
      "[states]\n",
      "states = Inde, Indi, Ind, mRNA1, Pep1, mRNA2, Pep2, mRNA3, Pep3\n",
      "\n",
      "[parameters]\n",
      "parameters = syn_mRNA1, syn_mRNA2, syn_mRNA3, deg_mRNA, syn_Pep, deg_Pep, Pepmax, Km, deg_Ind, Ratio, state1, state2\n",
      "\n",
      "[inputs]\n",
      "inputs = \n",
      "\n",
      "[equations]\n",
      "equations =\n",
      "  \n",
      "  \n",
      "    dInde = -(Inde/(Inde + Km))*Inde\n",
      "    dIndi = (Inde/(Inde + Km))*Inde\n",
      "    dInd = -deg_Ind*Ind\n",
      "    dmRNA1 = syn_mRNA1*Indi*state1 - deg_mRNA*mRNA1\n",
      "    dPep1 = syn_Pep*mRNA1 - deg_Pep*Pep1\n",
      "    dmRNA2 = syn_mRNA2*Ind*state2 - deg_mRNA*mRNA2\n",
      "    dPep2 = syn_Pep*mRNA2 - deg_Pep*Pep2\n",
      "    dmRNA3 = syn_mRNA3*((Pep1 + Pep2)/Pepmax) - deg_mRNA*mRNA3\n",
      "    dPep3 = syn_Pep*(1 - state1*state2*Ratio)*mRNA3 - deg_Pep*Pep3\n",
      "\n",
      "[_]\n",
      "system_type = LogicGate, OR, Double, Delay, Degrade, ResCompete \n",
      "\n",
      "init = \n",
      "    Inde = [1],\n",
      "    Indi = [0],\n",
      "    Ind = [1],\n",
      "    mRNA1 = [0],\n",
      "    Pep1 = [0],\n",
      "    mRNA2 = [0],\n",
      "    Pep2 = [0],\n",
      "    mRNA3 = [0],\n",
      "    Pep3 = [0]\n",
      "\n",
      "parameter_values = \n",
      "    syn_mRNA1 = [4.61233631105891e-07],\n",
      "    syn_mRNA2 = [1.14491479660054e-06],\n",
      "    syn_mRNA3 = [1.22733590079823e-07],\n",
      "    deg_mRNA = [0.1357],\n",
      "    syn_Pep = [0.00703787609220605],\n",
      "    deg_Pep = [0.00250105836297568],\n",
      "    Pepmax = [7.06633284144583e-07],\n",
      "    Km = [0.0710099443877324],\n",
      "    deg_Ind = [0.00314621440336731],\n",
      "    Ratio = [0.153965722378194],\n",
      "    state1 = [0],\n",
      "    state2 = [0]\n",
      "\n",
      "parameter_bounds = \n",
      "    syn_mRNA1 = [0, 1],\n",
      "    syn_mRNA2 = [0, 1],\n",
      "    syn_mRNA3 = [0, 1],\n",
      "    deg_mRNA = [0, 1],\n",
      "    syn_Pep = [0, 1],\n",
      "    deg_Pep = [0, 1],\n",
      "    Pepmax = [0, 1],\n",
      "    Km = [0, 1],\n",
      "    deg_Ind = [0, 1],\n",
      "    Ratio = [0, 1],\n",
      "    state1 = [0, 1],\n",
      "    state2 = [0, 1]\n",
      "\n",
      "units = \n",
      "    syn_mRNA1 = molperLmin,\n",
      "    syn_mRNA2 = molperLmin,\n",
      "    syn_mRNA3 = molperLmin,\n",
      "    deg_mRNA = per_min,\n",
      "    syn_Pep = molperLmin,\n",
      "    deg_Pep = per_min,\n",
      "    Pepmax = molperL,\n",
      "    Km = molperL,\n",
      "    deg_Ind = per_min,\n",
      "    Ratio = Dimension_lessss,\n",
      "    state1 = Dimension_lessss,\n",
      "    state2 = Dimension_lessss\n",
      "\n",
      "tspan = \n",
      "    [0.0, 20.0, 40.0, 60.0, 80.0, 100.0, 120.0, 140.0, 160.0, 180.0, 200.0, 220.0, 240.0, 260.0, 280.0, 300.0, 320.0, 340.0, 360.0, 380.0, 400.0, 420.0, 440.0, 460.0, 480.0, 500.0, 520.0, 540.0, 560.0, 580.0, 600.0, 620.0, 640.0, 660.0, 680.0, 700.0, 720.0, 740.0, 760.0, 780.0, 800.0, 820.0, 840.0, 860.0, 880.0, 900.0, 920.0, 940.0, 960.0, 980.0, 1000.0]\n"
     ]
    }
   ],
   "source": [
    "configstr, _ = sb.sbml_to_config(sbmlfiles[0], 'LogicGate, OR, Double, Delay, Degrade, ResCompete')\n",
    "print(configstr)"
   ]
  }
 ],
 "metadata": {
  "kernelspec": {
   "display_name": "Python 3",
   "language": "python",
   "name": "python3"
  },
  "language_info": {
   "codemirror_mode": {
    "name": "ipython",
    "version": 3
   },
   "file_extension": ".py",
   "mimetype": "text/x-python",
   "name": "python",
   "nbconvert_exporter": "python",
   "pygments_lexer": "ipython3",
   "version": "3.8.5"
  }
 },
 "nbformat": 4,
 "nbformat_minor": 4
}
