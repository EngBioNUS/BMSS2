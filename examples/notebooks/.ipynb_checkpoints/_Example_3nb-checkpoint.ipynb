{
 "cells": [
  {
   "cell_type": "markdown",
   "metadata": {},
   "source": [
    "# 2. Making a Model Selection Workflow\n"
   ]
  },
  {
   "cell_type": "markdown",
   "metadata": {},
   "source": [
    "First, we import the required modules.\n"
   ]
  },
  {
   "cell_type": "code",
   "execution_count": 1,
   "metadata": {},
   "outputs": [
    {
     "name": "stdout",
     "output_type": "stream",
     "text": [
      "Connected to MBase_models, UBase_models\n",
      "Connected to MBase_settings, UBase_settings\n"
     ]
    }
   ],
   "source": [
    "import matplotlib.pyplot as plt\n",
    "import numpy             as np\n",
    "import pandas            as pd\n",
    "\n",
    "\n",
    "import BMSS.models.model_handler as mh\n",
    "import BMSS.models.setup_cf      as sc\n",
    "import BMSS.icanalysis           as ac\n",
    "import BMSS.curvefitting         as cf\n",
    "import BMSS.traceanalysis        as ta"
   ]
  },
  {
   "cell_type": "markdown",
   "metadata": {},
   "source": [
    "Next we import the models. In this case, we have three models that we want to fit:\n",
    "\n",
    "A model for protein expression that lumps translation and trscription together i.e. no mRNA\n",
    "```\n",
    "[system_type]\n",
    "system_type = LogicGate, Not, Single\n",
    "\n",
    "[states]\n",
    "states = p1, p2\n",
    "\n",
    "[parameters]\n",
    "parameters = kp1, synp1, synp2, rep, degp\n",
    "\n",
    "[inputs]\n",
    "inputs = u1\n",
    "\n",
    "[equations]\n",
    "equations = \n",
    "\tdp1 = synp1 *u1                    -degp*p1\n",
    "\tdp2 = synp2 *(kp1+rep*p1)/(kp1+p1) -degp*p2\n",
    "\n",
    "\n",
    "\n",
    "[LogicGate, Not, Single]\n",
    "\n",
    "init = \n",
    "\tp1 = [0],\n",
    "\tp2 = [0]\n",
    "\n",
    "guess = \n",
    "\tkp1   = [5e-5],\n",
    "\tsynp1 = [1e-5],\n",
    "\tsynp2 = [1e-5],\n",
    "\trep   = [0.8],\n",
    "\tdegp  = [0.012],\n",
    "\tu1    = [0]\n",
    "\n",
    "priors = \n",
    "\tdegp = [0.012, 0.04]\n",
    "\n",
    "parameter_bounds = \n",
    "\tkp1    = [1e-7, 1e-4],\n",
    "\tsynp1  = [1e-7, 1e-4],\n",
    "\tsynp2  = [1e-7, 1e-4],\n",
    "\trep    = [0, 1],\n",
    "\tdegp   = [0.001, 0.05],\n",
    "\tu1     = [0, 1] \n",
    "\n",
    "input_conditions = \n",
    "\tu1 = 3\n",
    "\t\n",
    "fixed_parameters = \n",
    "\t[degp, u1]\n",
    "\n",
    "measured_states = \n",
    "\t[p1, p2]\n",
    "\n",
    "decomposition = \n",
    "\t[[p1, p2]]\n",
    "\t\n",
    "units = \n",
    "\tkp1   = M,\n",
    "\tsynp1 = M/min,\n",
    "\tsynp2 = M/min,\n",
    "\trep   = NONE,\n",
    "\tdegp  = 1/min,\n",
    "\tu1    = NONE\n",
    "```\n",
    "\n",
    "A model that includes mRNA transcription.\n",
    "```\n",
    "[system_type]\n",
    "system_type = LogicGate, Not, Double\n",
    "\n",
    "[states]\n",
    "states = m1, m2, p1, p2\n",
    "\n",
    "[parameters]\n",
    "parameters = synm1, synm2, degm, kp1, rep, synp1, synp2, degp\n",
    "\n",
    "[inputs]\n",
    "inputs = u1\n",
    "\n",
    "[equations]\n",
    "equations = \n",
    "\tdm1 = synm1*u1                    -degm*m1\n",
    "\tdm2 = synm2*(kp1+rep*p1)/(kp1+p1) -degm*m2\n",
    "\tdp1 = synp1 *m1                   -degp*p1\n",
    "\tdp2 = synp2 *m2                   -degp*p2\n",
    "\n",
    "[LogicGate, Not, Double]\n",
    "\n",
    "init = \n",
    "\tm1 = [0],\n",
    "\tm2 = [0],\n",
    "\tp1 = [0],\n",
    "\tp2 = [0]\n",
    "\n",
    "guess = \n",
    "\tsynm1  = [1e-5],\n",
    "\tsynm2  = [1e-5],\n",
    "\tdegm   = [0.15],\n",
    "\tkp1    = [5e-5],\n",
    "\trep    = [0.8],\n",
    "\tsynp1  = [1e-2],\n",
    "\tsynp2  = [1e-2],\n",
    "\tdegp   = [0.012],\n",
    "\tu1     = [0]\n",
    "\n",
    "priors = \n",
    "\tdegm = [0.15, 0.05],\n",
    "\tdegp = [0.012, 0.04]\n",
    "\t\n",
    "parameter_bounds = \n",
    "\tsynm1  = [1e-7, 1e-4],\n",
    "\tsynm2  = [1e-7, 1e-4],\n",
    "\tdegm   = [0.01, 0.3],\n",
    "\tkp1    = [1e-7, 1e-4],\n",
    "\trep    = [0, 1],\n",
    "\tsynp1  = [1e-3, 1e-1],\n",
    "\tsynp2  = [1e-3, 1e-1],\n",
    "\tdegp   = [0.001, 0.05],\n",
    "\tu1     = [0, 1]\n",
    "\n",
    "input_conditions = \n",
    "\tu1 = 3\n",
    "\t\n",
    "fixed_parameters = \n",
    "\t[degm, degp, u1]\n",
    "\n",
    "measured_states = \n",
    "\t[p1, p2]\n",
    "\n",
    "decomposition = \n",
    "\t[[m1, p1], [m2, p2]]\n",
    "\t\n",
    "units = \n",
    "\tsynm1  = M/min,\n",
    "\tsynm2  = M/min,\n",
    "\tdegm   = 1/min,\n",
    "\tkp1    = M,\n",
    "\trep    = NONE,\n",
    "\tsynp1  = 1/min,\n",
    "\tsynp2  = 1/min,\n",
    "\tdegp   = 1/min,\n",
    "\tu1     = NONE\n",
    "    \n",
    "```\n",
    "\n",
    "A model that includes mRNA transcription and protein maturation.\n",
    "\n",
    "```\n",
    "[system_type]\n",
    "system_type = LogicGate, Not, Double, MaturationSecond\n",
    "\n",
    "[states]\n",
    "states = m1, m2, p1, p2n, p2\n",
    "\n",
    "[parameters]\n",
    "parameters = synm1, synm2, degm, kp1, rep, synp1, synp2, matp2, degp\n",
    "\n",
    "[inputs]\n",
    "inputs = u1\n",
    "\n",
    "[equations]\n",
    "equations = \n",
    "\tdm1  = synm1*u1                    -degm *m1\n",
    "\tdm2  = synm2*(kp1+rep*p1)/(kp1+p1) -degm *m2\n",
    "\tdp1  = synp1 *m1                   -degp *p1\n",
    "\tdp2n = synp2 *m2                   -matp2*p2n\n",
    "\tdp2  = matp2*p2n                   -degp *p2 \n",
    "\n",
    "[LogicGate, Not, Double, MaturationSecond]\n",
    "\n",
    "init = \n",
    "\tm1  = [0],\n",
    "\tm2  = [0],\n",
    "\tp1  = [0],\n",
    "\tp2n = [0],\n",
    "\tp2  = [0]\n",
    "\n",
    "guess = \n",
    "\tsynm1 = [1e-5],\n",
    "\tsynm2 = [1e-5],\n",
    "\tdegm  = [0.15],\n",
    "\tkp1   = [5e-5],\n",
    "\trep   = [0.8],\n",
    "\tsynp1 = [1e-2],\n",
    "\tsynp2 = [1e-2],\n",
    "\tmatp2 = [0.03],\n",
    "\tdegp  = [0.012],\n",
    "\tu1    = [0]\n",
    "\n",
    "priors = \n",
    "\tdegm = [0.15, 0.05],\n",
    "\tdegp = [0.012, 0.04]\n",
    "\n",
    "parameter_bounds = \n",
    "\tsynm1  = [1e-7, 1e-4],\n",
    "\tsynm2  = [1e-7, 1e-4],\n",
    "\tdegm   = [0.01, 0.3],\n",
    "\tkp1    = [1e-7, 1e-4],\n",
    "\trep    = [0, 1],\n",
    "\tsynp1  = [1e-3, 1e-1],\n",
    "\tsynp2  = [1e-3, 1e-1],\n",
    "\tmatp2  = [1e-3, 1e-1],\n",
    "\tdegp   = [0.001, 0.05],\n",
    "\tu1     = [0, 1]\n",
    "\n",
    "input_conditions = \n",
    "\tu1 = 3\n",
    "\n",
    "fixed_parameters = \n",
    "\t[degm, matp2, degp, u1]\n",
    "\n",
    "measured_states = \n",
    "\t[p1, p2]\n",
    "\n",
    "decomposition = \n",
    "\t[[m1, p1], [m2, p2n, p2]]\n",
    "\t\n",
    "units = \n",
    "\tsynm1 = M/min,\n",
    "\tsynm2 = M/min,\n",
    "\tdegm  = 1/min,\n",
    "\tkp1   = M,\n",
    "\trep   = NONE,\n",
    "\tsynp1 = 1/min,\n",
    "\tsynp2 = 1/min,\n",
    "\tmatp2 = 1/min,\n",
    "\tdegp  = 1/min,\n",
    "\tu1    = NONE\n",
    "\n",
    "\n",
    "```\n"
   ]
  },
  {
   "cell_type": "code",
   "execution_count": 2,
   "metadata": {},
   "outputs": [],
   "source": [
    "#Set up core models and sampler arguments\n",
    "#Details in Tutorial 5 Parts 1 and 2\n",
    "model_files = ['LogicGate_Not_Single.ini',\n",
    "               'LogicGate_Not_Double.ini',\n",
    "               'LogicGate_Not_Double_MaturationSecond.ini',\n",
    "               ]\n",
    "\n",
    "user_core_models = [mh.from_config(filename) for filename in model_files]\n",
    "user_core_models = {core_model['system_type']: core_model for core_model in user_core_models}\n",
    "\n",
    "sampler_args, config_data = sc.get_sampler_args(model_files, user_core_models=user_core_models)\n",
    "    "
   ]
  },
  {
   "cell_type": "markdown",
   "metadata": {},
   "source": [
    "To characterize a NOT gate, we need to simulate the on and off states (i.e. two scenarios). Since we the parameter u0 will change depending on the scenario, we define a modify_params function that changes u0 based on the scenario. In addition, the initial values of the proteins in the models that include mRNA depend on the intial mRNA concentrations (assuming steady-state). We therefore also define a modify_init function that adjusts the initial values of the proteins based on the calculated steady-state values from the parameters."
   ]
  },
  {
   "cell_type": "code",
   "execution_count": 3,
   "metadata": {},
   "outputs": [],
   "source": [
    "def modify_params(init_values, params, model_num, scenario_num, segment):\n",
    "    #Always use a copy and not the original\n",
    "    new_params = params.copy()\n",
    "    \n",
    "    #Change value of inducer based on scenario_num\n",
    "    if scenario_num == 1:\n",
    "        new_params[-1] = 0\n",
    "    else:\n",
    "        new_params[-1] = 1\n",
    "        \n",
    "    return new_params\n",
    "\n",
    "def modify_init(init_values, params, model_num, scenario_num, segment):\n",
    "    #Always use a copy and not the original\n",
    "    new_init = init_values.copy()\n",
    "    \n",
    "    if model_num == 1:\n",
    "        pass\n",
    "    \n",
    "    elif model_num == 2:\n",
    "       synm1, synm2, degm, kp1, rep, synp1, synp2, degp, u1 = params\n",
    "       \n",
    "       new_init[1] = synm2/degm\n",
    "       \n",
    "    else:\n",
    "        synm1, synm2, degm, kp1, rep, synp1, synp2, matp2, degp, u1 = params\n",
    "        m1, m2, p1, p2n, p2 = init_values\n",
    "        \n",
    "        new_init[1] = synm2/degm\n",
    "        new_init[3] = synp2*m2/matp2\n",
    "        \n",
    "    return new_init\n"
   ]
  },
  {
   "cell_type": "markdown",
   "metadata": {},
   "source": [
    "Next we read the data. BMSS2 does not have a standardized file format for experimental data format. You have to write your own function to generate the appropriate data structures from your files."
   ]
  },
  {
   "cell_type": "code",
   "execution_count": 4,
   "metadata": {},
   "outputs": [],
   "source": [
    "#This is just an example. Write your own based on your data file formats!\n",
    "from   read_data                 import read_data\n",
    "\n",
    "data_files = {'Fluor/OD' : 'data/not_gate.csv',\n",
    "              }\n",
    "data_mu, data_sd, init, state_sd, tspan = read_data(data_files, n_models=len(config_data))\n",
    "\n",
    "    "
   ]
  },
  {
   "cell_type": "markdown",
   "metadata": {},
   "source": [
    "Firstly, you will need data_mu, a dictionary containing the experimental means nested according to model_num->state->scenario_num.\n",
    "\n",
    "Note: Scenario numbers in BMSS are always positive integers."
   ]
  },
  {
   "cell_type": "code",
   "execution_count": 5,
   "metadata": {},
   "outputs": [
    {
     "data": {
      "text/plain": [
       "array([0.00016846, 0.00016709, 0.00016505, 0.00016492, 0.00016622,\n",
       "       0.00016536, 0.0001663 , 0.00016791, 0.00016922, 0.00017165,\n",
       "       0.0001749 , 0.0001772 , 0.00018073, 0.00018408, 0.00018661,\n",
       "       0.00019042, 0.00019291, 0.00019494, 0.00019687, 0.0001982 ,\n",
       "       0.00019873, 0.00020043, 0.00020122, 0.00020297, 0.00020254,\n",
       "       0.00020265, 0.00020256, 0.0002019 , 0.00020067, 0.00019887,\n",
       "       0.00019843, 0.0001972 , 0.00019612, 0.00019529, 0.00019439,\n",
       "       0.00019349, 0.00019359, 0.00019448, 0.00019419, 0.00019417,\n",
       "       0.00019455, 0.00019394, 0.00019388, 0.00019477, 0.00019417,\n",
       "       0.00019461, 0.00019436, 0.00019537, 0.0001953 , 0.00019483,\n",
       "       0.00019447, 0.00019562, 0.00019583, 0.00019644, 0.00019749,\n",
       "       0.00019768, 0.00019793, 0.00019992, 0.00020136, 0.00020248,\n",
       "       0.00020349, 0.00020434, 0.00020496, 0.00020666, 0.00020748,\n",
       "       0.00020831, 0.00020953, 0.00021106, 0.00021324, 0.00021478,\n",
       "       0.00021544, 0.00021685, 0.0002173 ])"
      ]
     },
     "execution_count": 5,
     "metadata": {},
     "output_type": "execute_result"
    }
   ],
   "source": [
    "data_mu[1]['Fluor/OD'][1]"
   ]
  },
  {
   "cell_type": "markdown",
   "metadata": {},
   "source": [
    "For curve-fitting, 0 and -1 are are reserved for the time points and optional metadata respectively."
   ]
  },
  {
   "cell_type": "code",
   "execution_count": 6,
   "metadata": {},
   "outputs": [
    {
     "data": {
      "text/plain": [
       "array([  0,  10,  20,  30,  40,  50,  60,  70,  80,  90, 100, 110, 120,\n",
       "       130, 140, 150, 160, 170, 180, 190, 200, 210, 220, 230, 240, 250,\n",
       "       260, 270, 280, 290, 300, 310, 320, 330, 340, 350, 360, 370, 380,\n",
       "       390, 400, 410, 420, 430, 440, 450, 460, 470, 480, 490, 500, 510,\n",
       "       520, 530, 540, 550, 560, 570, 580, 590, 600, 610, 620, 630, 640,\n",
       "       650, 660, 670, 680, 690, 700, 710, 720], dtype=int64)"
      ]
     },
     "execution_count": 6,
     "metadata": {},
     "output_type": "execute_result"
    }
   ],
   "source": [
    "data_mu[1]['Fluor/OD'][0]"
   ]
  },
  {
   "cell_type": "code",
   "execution_count": 7,
   "metadata": {},
   "outputs": [
    {
     "data": {
      "text/plain": [
       "['Time(min)', 'Input0', 'Input1']"
      ]
     },
     "execution_count": 7,
     "metadata": {},
     "output_type": "execute_result"
    }
   ],
   "source": [
    "data_mu[1]['Fluor/OD'][-1]"
   ]
  },
  {
   "cell_type": "markdown",
   "metadata": {},
   "source": [
    "Next we have data_sd, which represents the standard deviation for the data points. This is required for plotting. Like data_mu, it is a nested dictionary too."
   ]
  },
  {
   "cell_type": "code",
   "execution_count": 8,
   "metadata": {},
   "outputs": [
    {
     "data": {
      "text/plain": [
       "array([2.42656e-06, 9.37248e-07, 9.19792e-07, 2.76109e-06, 3.24705e-06,\n",
       "       4.98056e-07, 1.28286e-06, 3.47485e-07, 1.39350e-06, 1.39600e-06,\n",
       "       2.72240e-06, 1.70335e-06, 2.02147e-06, 2.49997e-06, 1.24595e-06,\n",
       "       2.04816e-06, 1.06684e-06, 2.64642e-06, 1.85434e-06, 2.66398e-06,\n",
       "       3.28476e-06, 3.31294e-06, 3.41525e-06, 3.99973e-06, 4.00629e-06,\n",
       "       4.72510e-06, 4.48240e-06, 4.34397e-06, 3.83979e-06, 3.96017e-06,\n",
       "       3.44663e-06, 3.69322e-06, 3.21070e-06, 3.94781e-06, 4.10837e-06,\n",
       "       3.72995e-06, 3.81588e-06, 3.91394e-06, 3.95898e-06, 3.69636e-06,\n",
       "       2.62381e-06, 2.85074e-06, 3.24365e-06, 2.78016e-06, 3.04043e-06,\n",
       "       3.42828e-06, 3.40368e-06, 3.31324e-06, 3.52927e-06, 3.18079e-06,\n",
       "       3.70341e-06, 3.77066e-06, 3.90530e-06, 3.98203e-06, 4.34979e-06,\n",
       "       2.97448e-06, 3.39774e-06, 3.83076e-06, 4.06592e-06, 3.39255e-06,\n",
       "       3.40962e-06, 2.72869e-06, 3.80955e-06, 2.94705e-06, 3.21857e-06,\n",
       "       3.25478e-06, 3.17322e-06, 2.91145e-06, 3.01634e-06, 3.46067e-06,\n",
       "       3.16760e-06, 2.67769e-06, 3.34911e-06])"
      ]
     },
     "execution_count": 8,
     "metadata": {},
     "output_type": "execute_result"
    }
   ],
   "source": [
    "data_sd[1]['Fluor/OD'][1]"
   ]
  },
  {
   "cell_type": "code",
   "execution_count": 9,
   "metadata": {},
   "outputs": [
    {
     "data": {
      "text/plain": [
       "array([  0,  10,  20,  30,  40,  50,  60,  70,  80,  90, 100, 110, 120,\n",
       "       130, 140, 150, 160, 170, 180, 190, 200, 210, 220, 230, 240, 250,\n",
       "       260, 270, 280, 290, 300, 310, 320, 330, 340, 350, 360, 370, 380,\n",
       "       390, 400, 410, 420, 430, 440, 450, 460, 470, 480, 490, 500, 510,\n",
       "       520, 530, 540, 550, 560, 570, 580, 590, 600, 610, 620, 630, 640,\n",
       "       650, 660, 670, 680, 690, 700, 710, 720], dtype=int64)"
      ]
     },
     "execution_count": 9,
     "metadata": {},
     "output_type": "execute_result"
    }
   ],
   "source": [
    "data_sd[1]['Fluor/OD'][0]"
   ]
  },
  {
   "cell_type": "markdown",
   "metadata": {},
   "source": [
    "For curve-fitting, a standard deviation is required to normalize the SSE for each state."
   ]
  },
  {
   "cell_type": "code",
   "execution_count": 10,
   "metadata": {},
   "outputs": [
    {
     "data": {
      "text/plain": [
       "{'Fluor/OD': 2.1642987945205473e-06}"
      ]
     },
     "execution_count": 10,
     "metadata": {},
     "output_type": "execute_result"
    }
   ],
   "source": [
    "state_sd"
   ]
  },
  {
   "cell_type": "markdown",
   "metadata": {},
   "source": [
    "In the event the tspan and initial values in the settings file are not the same as the experimental data, you will have to reassign them in your script."
   ]
  },
  {
   "cell_type": "markdown",
   "metadata": {},
   "source": [
    "Now we update the sampler arguments with the information from the experimental data."
   ]
  },
  {
   "cell_type": "code",
   "execution_count": 11,
   "metadata": {},
   "outputs": [],
   "source": [
    "#Update sampler_args with the information from the data\n",
    "sampler_args['models'][1]['states'] = ['p1', 'Fluor/OD']\n",
    "sampler_args['models'][2]['states'] = ['m1', 'm2', 'p1', 'Fluor/OD']\n",
    "sampler_args['models'][3]['states'] = ['m1', 'm2', 'p1', 'p2n', 'Fluor/OD']\n",
    "sampler_args['data']                = data_mu\n",
    "\n",
    "for model_num in sampler_args['models']:\n",
    "    sampler_args['models'][model_num]['tspan'] = [tspan]\n",
    "    sampler_args['models'][model_num]['sd']    = state_sd\n",
    "\n",
    "    model_init = {scenario: [init[model_num][scenario].get(state, 0) for state in sampler_args['models'][model_num]['states']] for scenario in init[model_num]}\n",
    "    sampler_args['models'][model_num]['init']                      = model_init\n",
    "    sampler_args['models'][model_num]['int_args']['modify_params'] = modify_params\n",
    "    sampler_args['models'][model_num]['int_args']['modify_init']   = modify_init"
   ]
  },
  {
   "cell_type": "markdown",
   "metadata": {},
   "source": [
    "Time to run the sampler! In this case, we'll just run it once but often, we should run it more times to ensure convergence."
   ]
  },
  {
   "cell_type": "code",
   "execution_count": 12,
   "metadata": {},
   "outputs": [
    {
     "name": "stderr",
     "output_type": "stream",
     "text": [
      "100%|██████████████████████████████████████████████████████████████████████████████| 3000/3000 [00:55<00:00, 53.70it/s]\n"
     ]
    }
   ],
   "source": [
    "#Run sampler\n",
    "traces    = {}#To collect the trace\n",
    "result    = cf.simulated_annealing(**sampler_args)\n",
    "accepted  = result['a']\n",
    "traces[1] = accepted\n"
   ]
  },
  {
   "cell_type": "markdown",
   "metadata": {},
   "source": [
    "After fitting, we plot the results to check the fit."
   ]
  },
  {
   "cell_type": "code",
   "execution_count": 13,
   "metadata": {},
   "outputs": [
    {
     "data": {
      "image/png": "[encoded data removed]",
      "text/plain": [
       "<Figure size 432x288 with 3 Axes>"
      ]
     },
     "metadata": {
      "needs_background": "light"
     },
     "output_type": "display_data"
    },
    {
     "data": {
      "image/png": "[encoded data removed]",
      "text/plain": [
       "<Figure size 432x288 with 2 Axes>"
      ]
     },
     "metadata": {
      "needs_background": "light"
     },
     "output_type": "display_data"
    },
    {
     "data": {
      "image/png": "[encoded data removed]",
      "text/plain": [
       "<Figure size 432x288 with 2 Axes>"
      ]
     },
     "metadata": {
      "needs_background": "light"
     },
     "output_type": "display_data"
    }
   ],
   "source": [
    "#Plot results\n",
    "plot_index  = {1: ['Fluor/OD'],\n",
    "               2: ['Fluor/OD', 'm1', 'm2'],\n",
    "               3: ['Fluor/OD', 'm1', 'm2',]\n",
    "               }\n",
    "titles      = {1: {'Fluor/OD': 'Pep Model 1'},\n",
    "               2: {'Fluor/OD': 'Pep Model 2', 'm1': 'mRNA 1 Model 2', 'm2': 'mRNA 2 Model 2'},\n",
    "               3: {'Fluor/OD': 'Pep Model 3', 'm1': 'mRNA 1 Model 3', 'm2': 'mRNA 2 Model 3'}\n",
    "               }\n",
    "labels      = {1: {1: 'Input=0', 2: 'Input=1'},\n",
    "               2: {1: 'Input=0', 2: 'Input=1'},\n",
    "               3: {1: 'Input=0', 2: 'Input=1'}\n",
    "               }\n",
    "legend_args = {'loc': 'upper left'}\n",
    "\n",
    "figs, AX  = cf.plot(posterior   = accepted.iloc[-40::2], \n",
    "                    models      = sampler_args['models'],  \n",
    "                    data        = data_mu,\n",
    "                    data_sd     = data_sd,\n",
    "                    plot_index  = plot_index,\n",
    "                    labels      = labels,\n",
    "                    titles      = titles,\n",
    "                    legend_args = legend_args,\n",
    "                    figs        = None,\n",
    "                    AX          = None\n",
    "                    )\n"
   ]
  },
  {
   "cell_type": "markdown",
   "metadata": {},
   "source": [
    "## A Posteriori Identifiability Analysis\n",
    "We can check the trace plots to determine if the parameters have been identified."
   ]
  },
  {
   "cell_type": "code",
   "execution_count": 14,
   "metadata": {
    "scrolled": true
   },
   "outputs": [
    {
     "data": {
      "image/png": "[encoded data removed]",
      "text/plain": [
       "<Figure size 432x288 with 10 Axes>"
      ]
     },
     "metadata": {
      "needs_background": "light"
     },
     "output_type": "display_data"
    },
    {
     "data": {
      "image/png": "[encoded data removed]",
      "text/plain": [
       "<Figure size 432x288 with 10 Axes>"
      ]
     },
     "metadata": {
      "needs_background": "light"
     },
     "output_type": "display_data"
    }
   ],
   "source": [
    "trace_params = [p for p in accepted.columns if p not in sampler_args['fixed_parameters']]\n",
    "n_figs       = round(len(trace_params)/10 + 0.5)\n",
    "trace_figs   = [plt.figure() for i in range(n_figs)]\n",
    "trace_AX_    = [trace_figs[i].add_subplot(5, 2, ii+1) for i in range(len(trace_figs)) for ii in range(10)]\n",
    "trace_AX     = dict(zip(trace_params, trace_AX_))\n",
    "\n",
    "trace_figs, trace_AX = ta.plot_steps(traces, \n",
    "                                     skip        = sampler_args['fixed_parameters'], \n",
    "                                     legend_args = legend_args,\n",
    "                                     figs        = trace_figs,\n",
    "                                     AX          = trace_AX\n",
    "                                     )"
   ]
  },
  {
   "cell_type": "markdown",
   "metadata": {},
   "source": [
    "### Model Selection\n",
    "\n"
   ]
  },
  {
   "cell_type": "code",
   "execution_count": 15,
   "metadata": {},
   "outputs": [],
   "source": [
    "table = ac.calculate_ic(data   = sampler_args['data'], \n",
    "                        models = sampler_args['models'], \n",
    "                        priors = sampler_args['priors'],\n",
    "                        params = accepted.iloc[-10:]\n",
    "                        )\n"
   ]
  },
  {
   "cell_type": "markdown",
   "metadata": {},
   "source": [
    "Finally we rank the table to see which model performed best."
   ]
  },
  {
   "cell_type": "code",
   "execution_count": 16,
   "metadata": {},
   "outputs": [
    {
     "name": "stdout",
     "output_type": "stream",
     "text": [
      "    row  model_num    ic value             Evidence  d(ic value)\n",
      "25  481          2  560.040989  Substantial support     0.000000\n",
      "28  482          2  560.040989  Substantial support     0.000000\n",
      "1   473          2  560.042461  Substantial support     0.001473\n",
      "4   474          2  560.042461  Substantial support     0.001473\n",
      "7   475          2  560.042461  Substantial support     0.001473\n"
     ]
    }
   ],
   "source": [
    "ranked_table  = ac.rank_ic(table, inplace=False)\n",
    "print(ranked_table.head())"
   ]
  }
 ],
 "metadata": {
  "kernelspec": {
   "display_name": "Python 3",
   "language": "python",
   "name": "python3"
  },
  "language_info": {
   "codemirror_mode": {
    "name": "ipython",
    "version": 3
   },
   "file_extension": ".py",
   "mimetype": "text/x-python",
   "name": "python",
   "nbconvert_exporter": "python",
   "pygments_lexer": "ipython3",
   "version": "3.8.5"
  }
 },
 "nbformat": 4,
 "nbformat_minor": 4
}
