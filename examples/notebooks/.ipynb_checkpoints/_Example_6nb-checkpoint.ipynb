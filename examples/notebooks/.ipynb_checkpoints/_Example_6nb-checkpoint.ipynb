{
 "cells": [
  {
   "cell_type": "markdown",
   "metadata": {},
   "source": [
    "# 6. Sensitivity Analysis\n",
    "\n",
    "In this example, we want to engineer a pathway for the production of a heterologous protein through a batch reaction. Increasing the strength of the rbs would result in faster synthesis. However, suppose the protein product has a negative (toxic) effect on the growth of the cells and high levels of expression may reduce growth to the point of decreasing yield. \n",
    "\n",
    "We want to consider how the yield at 7 hours is affected by changing the rbs strength (synh) and extent of growth inhibition(Kh). In addition, we have two strains of bacteria that we want to study; a fast-growing one and a slow-growing one (this affects mu_max).\n"
   ]
  },
  {
   "cell_type": "markdown",
   "metadata": {},
   "source": [
    "First we import the required modules."
   ]
  },
  {
   "cell_type": "code",
   "execution_count": 1,
   "metadata": {},
   "outputs": [
    {
     "name": "stdout",
     "output_type": "stream",
     "text": [
      "Connected to MBase_models, UBase_models\n",
      "Connected to MBase_settings, UBase_settings\n"
     ]
    }
   ],
   "source": [
    "import matplotlib.pyplot as plt\n",
    "import numpy             as np\n",
    "import pandas            as pd\n",
    "\n",
    "\n",
    "import BMSS.models.model_handler as mh\n",
    "import BMSS.models.setup_sen     as ss\n",
    "import BMSS.sensitivityanalysis  as sn"
   ]
  },
  {
   "cell_type": "markdown",
   "metadata": {},
   "source": [
    "We then produce a simple model using the config files. One file for the core model.\n",
    "\n",
    "```\n",
    "[system_type]\n",
    "system_type = TestModel, Monod, Constitutive, Single, ProductInhibition\n",
    "\n",
    "[states]\n",
    "states = x, s, h\n",
    "\n",
    "[parameters]\n",
    "parameters = mu_max, Ks, Kh, Y, synh\n",
    "\n",
    "[equations]\n",
    "equations = \n",
    "\tmu = mu_max*s/(s+Ks)*Kh/(h+Kh)\n",
    "\t\n",
    "\tdx =  x*mu\n",
    "\tds = -dx/Y\n",
    "\tdh = synh -h*mu\n",
    "\n",
    "```\n",
    "\n",
    "...and another for the settings.\n",
    "```\n",
    "#Note \n",
    "#Parameter bounds will be automatically generated if they are not specified\n",
    "#Automatically generated range: 0.1~10x\n",
    "[TestModel, Monod, Constitutive, Single, ProductInhibition]\n",
    "#id = bmss2\n",
    "#equations = \n",
    "#\tmu = mu_max*s/(s+Ks)*Kh/(h+Kh)\n",
    "#\t\n",
    "#\tdx =  x*mu\n",
    "#\tds = -dx/Y\n",
    "#\tdh = synh -h*mu\n",
    "\n",
    "init = \n",
    "\tx      = [0.1]*2,\n",
    "\ts      = [0.2]*2,\n",
    "\th      = [0]*2\n",
    "\n",
    "parameter_values = \n",
    "\tmu_max = [0.012, 0.010],\n",
    "\tKs     = [0.15]*2,\n",
    "\tKh     = [5e-5]*2,\n",
    "\tY      = [4.5]*2,\n",
    "\tsynh   = [1e-6]*2\n",
    "\n",
    "units = \n",
    "\tmu_max = 1/min,\n",
    "\tKs     = % Glucose,\n",
    "\tKh     = M,\n",
    "\tY      = NONE,\n",
    "\tsynh   = M/min\n",
    "\n",
    "fixed_parameters = \n",
    "\t[mu_max, Y]\n",
    "\t\n",
    "tspan = \n",
    "\n",
    "\t[0, 420]\n",
    "\n",
    "solver_args = \n",
    "\trtol   = 1.49012e-08,\n",
    "\tatol   = 1.49012e-08,\n",
    "\ttcrit  = [],\n",
    "\th0     = 0.0,\n",
    "\thmax   = 0.0,\n",
    "\thmin   = 0.0,\n",
    "\tmxstep = 0\n",
    "```"
   ]
  },
  {
   "cell_type": "markdown",
   "metadata": {},
   "source": [
    "We then define a function for calculating the final protein yield. This function must return a float."
   ]
  },
  {
   "cell_type": "code",
   "execution_count": 2,
   "metadata": {},
   "outputs": [],
   "source": [
    "def h_yield(y, t, params):\n",
    "    final_x = y[-1, 0]\n",
    "    final_h = y[-1, 2]\n",
    "\n",
    "    return final_x*final_h\n"
   ]
  },
  {
   "cell_type": "markdown",
   "metadata": {},
   "source": [
    "We now read the config files."
   ]
  },
  {
   "cell_type": "code",
   "execution_count": 3,
   "metadata": {},
   "outputs": [
    {
     "data": {
      "text/plain": [
       "{'id': 'bmss57',\n",
       " 'system_type': 'TestModel, Monod, Constitutive, Single, ProductInhibition',\n",
       " 'states': ['x', 's', 'h'],\n",
       " 'parameters': ['mu_max', 'Ks', 'Kh', 'Y', 'synh'],\n",
       " 'inputs': [],\n",
       " 'equations': ['mu = mu_max*s/(s+Ks)*Kh/(h+Kh)',\n",
       "  'dx =  x*mu',\n",
       "  'ds = -dx/Y',\n",
       "  'dh = synh -h*mu'],\n",
       " 'ia': '',\n",
       " 'descriptions': {}}"
      ]
     },
     "execution_count": 3,
     "metadata": {},
     "output_type": "execute_result"
    }
   ],
   "source": [
    "mh.quick_search('TestModel, Monod, Constitutive, Single, ProductInhibition')"
   ]
  },
  {
   "cell_type": "code",
   "execution_count": 4,
   "metadata": {},
   "outputs": [
    {
     "name": "stdout",
     "output_type": "stream",
     "text": [
      "   mu_max_1  Ks_1     Kh_1  Y_1    synh_1\n",
      "0     0.012  0.15  0.00005  4.5  0.000001\n",
      "1     0.010  0.15  0.00005  4.5  0.000001\n"
     ]
    }
   ],
   "source": [
    "model_files = ['Monod_Constitutive_Single_ProductInhibition.ini',\n",
    "               ]\n",
    "\n",
    "user_core_models = [mh.from_config(filename) for filename in model_files]\n",
    "user_core_models = {core_model['system_type']: core_model for core_model in user_core_models}\n",
    "\n",
    "\n",
    "filename                      = 'settings_sen.ini'\n",
    "sensitivity_args, config_data = ss.get_sensitivity_args(filename, user_core_models=user_core_models)\n",
    "sensitivity_args['objective'] = {1: [h_yield]}\n",
    "\n",
    "print(sensitivity_args['params'])"
   ]
  },
  {
   "cell_type": "markdown",
   "metadata": {},
   "source": [
    "We have two sets of paramters, one for each strain. Before proceeding, let's rename the index of the DataFrame to make this clearer."
   ]
  },
  {
   "cell_type": "code",
   "execution_count": 5,
   "metadata": {},
   "outputs": [],
   "source": [
    "sensitivity_args['params'].index = ['Strain 1', 'Strain 2']"
   ]
  },
  {
   "cell_type": "markdown",
   "metadata": {},
   "source": [
    "We now call the ```analyze``` function to run the sensitivity analysis algorithms from SALib. In this case, we use the Sobol algorithm but you can make use of SALib's other functions by changing the ```analysis_type``` under sensitivity_args."
   ]
  },
  {
   "cell_type": "code",
   "execution_count": 6,
   "metadata": {},
   "outputs": [],
   "source": [
    "analysis_result, em, samples, problems = sn.analyze(**sensitivity_args)"
   ]
  },
  {
   "cell_type": "markdown",
   "metadata": {},
   "source": [
    "We now plot the results."
   ]
  },
  {
   "cell_type": "code",
   "execution_count": 7,
   "metadata": {
    "scrolled": true
   },
   "outputs": [
    {
     "data": {
      "text/plain": [
       "([<Figure size 864x360 with 2 Axes>, <Figure size 864x360 with 2 Axes>],\n",
       " {1: {1: {'Strain 1': {<function __main__.h_yield(y, t, params)>: <AxesSubplot:title={'center':'Model 1, Scenario 1 Strain 1, h Yield'}>}},\n",
       "   2: {'Strain 2': {<function __main__.h_yield(y, t, params)>: <AxesSubplot:title={'center':'Model 1, Scenario 2 Strain 2, h Yield'}>}}}})"
      ]
     },
     "execution_count": 7,
     "metadata": {},
     "output_type": "execute_result"
    },
    {
     "data": {
      "image/png": "[encoded data removed]",
      "text/plain": [
       "<Figure size 864x360 with 2 Axes>"
      ]
     },
     "metadata": {
      "needs_background": "light"
     },
     "output_type": "display_data"
    },
    {
     "data": {
      "image/png": "[encoded data removed]",
      "text/plain": [
       "<Figure size 864x360 with 2 Axes>"
      ]
     },
     "metadata": {
      "needs_background": "light"
     },
     "output_type": "display_data"
    }
   ],
   "source": [
    "#Plot settings\n",
    "plt.rcParams['figure.figsize'] = [12, 5]\n",
    "plt.rcParams['figure.subplot.hspace'] = 0.99\n",
    "\n",
    "titles = {1: {h_yield: 'h Yield'}\n",
    "          }\n",
    "sn.plot_first_order(analysis_result, problems=problems, titles=titles, analysis_type=sensitivity_args['analysis_type'], figs=None, AX=None)"
   ]
  },
  {
   "cell_type": "markdown",
   "metadata": {},
   "source": [
    "Sobol analysis includes second order sensitivities which can be used to check for correlated parameters. We can call ```plot_second_order``` to plot the second order sensitivity.\n"
   ]
  },
  {
   "cell_type": "code",
   "execution_count": 8,
   "metadata": {},
   "outputs": [
    {
     "data": {
      "text/plain": [
       "([<Figure size 864x360 with 4 Axes>, <Figure size 864x360 with 4 Axes>],\n",
       " {1: {1: {'Strain 1': {<function __main__.h_yield(y, t, params)>: {'S2': <AxesSubplot:title={'center':'Model 1, Scenario 1 Strain 1, h Yield (S2)'}>,\n",
       "      'S2_conf': <AxesSubplot:title={'center':'Model 1, Scenario 1 Strain 1, h Yield (S2_conf)'}>}}},\n",
       "   2: {'Strain 2': {<function __main__.h_yield(y, t, params)>: {'S2': <AxesSubplot:title={'center':'Model 1, Scenario 2 Strain 2, h Yield (S2)'}>,\n",
       "      'S2_conf': <AxesSubplot:title={'center':'Model 1, Scenario 2 Strain 2, h Yield (S2_conf)'}>}}}}})"
      ]
     },
     "execution_count": 8,
     "metadata": {},
     "output_type": "execute_result"
    },
    {
     "data": {
      "image/png": "[encoded data removed]",
      "text/plain": [
       "<Figure size 864x360 with 4 Axes>"
      ]
     },
     "metadata": {
      "needs_background": "light"
     },
     "output_type": "display_data"
    },
    {
     "data": {
      "image/png": "[encoded data removed]",
      "text/plain": [
       "<Figure size 864x360 with 4 Axes>"
      ]
     },
     "metadata": {
      "needs_background": "light"
     },
     "output_type": "display_data"
    }
   ],
   "source": [
    "sn.plot_second_order(analysis_result, problems=problems, titles=titles, analysis_type=sensitivity_args['analysis_type'], figs=None, AX=None)\n",
    "\n",
    "    "
   ]
  }
 ],
 "metadata": {
  "kernelspec": {
   "display_name": "Python 3",
   "language": "python",
   "name": "python3"
  },
  "language_info": {
   "codemirror_mode": {
    "name": "ipython",
    "version": 3
   },
   "file_extension": ".py",
   "mimetype": "text/x-python",
   "name": "python",
   "nbconvert_exporter": "python",
   "pygments_lexer": "ipython3",
   "version": "3.8.5"
  }
 },
 "nbformat": 4,
 "nbformat_minor": 4
}
